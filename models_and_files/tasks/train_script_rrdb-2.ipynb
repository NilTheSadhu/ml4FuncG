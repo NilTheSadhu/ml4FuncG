{
 "cells": [
  {
   "cell_type": "code",
   "execution_count": 1,
   "id": "fa1bbc7d-4194-49b1-b650-0a54e2705822",
   "metadata": {},
   "outputs": [
    {
     "name": "stdout",
     "output_type": "stream",
     "text": [
      "/workspace\n"
     ]
    },
    {
     "name": "stderr",
     "output_type": "stream",
     "text": [
      "/usr/local/lib/python3.10/dist-packages/IPython/core/magics/osm.py:417: UserWarning: using dhist requires you to install the `pickleshare` library.\n",
      "  self.shell.db['dhist'] = compress_dhist(dhist)[-100:]\n"
     ]
    }
   ],
   "source": [
    "cd '/workspace'"
   ]
  },
  {
   "cell_type": "code",
   "execution_count": 2,
   "id": "63b18453-a33b-4c3e-8ced-1716ebb4cf12",
   "metadata": {},
   "outputs": [
    {
     "name": "stdout",
     "output_type": "stream",
     "text": [
      "Requirement already satisfied: torch in /usr/local/lib/python3.10/dist-packages (from -r requirements.txt (line 1)) (2.1.0+cu118)\n",
      "Requirement already satisfied: torchvision in /usr/local/lib/python3.10/dist-packages (from -r requirements.txt (line 2)) (0.16.0+cu118)\n",
      "Requirement already satisfied: Cython in /usr/local/lib/python3.10/dist-packages (from -r requirements.txt (line 3)) (3.0.11)\n",
      "Requirement already satisfied: matplotlib in /usr/local/lib/python3.10/dist-packages (from -r requirements.txt (line 4)) (3.10.0)\n",
      "Requirement already satisfied: tqdm in /usr/local/lib/python3.10/dist-packages (from -r requirements.txt (line 5)) (4.67.1)\n",
      "Requirement already satisfied: numpy in /usr/local/lib/python3.10/dist-packages (from -r requirements.txt (line 6)) (1.24.1)\n",
      "Requirement already satisfied: scipy in /usr/local/lib/python3.10/dist-packages (from -r requirements.txt (line 7)) (1.14.1)\n",
      "Requirement already satisfied: PyYAML in /usr/local/lib/python3.10/dist-packages (from -r requirements.txt (line 8)) (6.0.1)\n",
      "Requirement already satisfied: tensorboardX in /usr/local/lib/python3.10/dist-packages (from -r requirements.txt (line 9)) (2.6.2.2)\n",
      "Requirement already satisfied: tensorboard in /usr/local/lib/python3.10/dist-packages (from -r requirements.txt (line 10)) (2.18.0)\n",
      "Requirement already satisfied: scikit-learn in /usr/local/lib/python3.10/dist-packages (from -r requirements.txt (line 11)) (1.6.0)\n",
      "Requirement already satisfied: scikit-image in /usr/local/lib/python3.10/dist-packages (from -r requirements.txt (line 12)) (0.25.0)\n",
      "Requirement already satisfied: seaborn in /usr/local/lib/python3.10/dist-packages (from -r requirements.txt (line 13)) (0.13.2)\n",
      "Requirement already satisfied: pillow in /usr/local/lib/python3.10/dist-packages (from -r requirements.txt (line 14)) (11.0.0)\n",
      "Requirement already satisfied: opencv-python in /usr/local/lib/python3.10/dist-packages (from -r requirements.txt (line 15)) (4.10.0.84)\n",
      "Requirement already satisfied: opencv-contrib-python in /usr/local/lib/python3.10/dist-packages (from -r requirements.txt (line 16)) (4.10.0.84)\n",
      "Requirement already satisfied: einops in /usr/local/lib/python3.10/dist-packages (from -r requirements.txt (line 17)) (0.8.0)\n",
      "Requirement already satisfied: lpips in /usr/local/lib/python3.10/dist-packages (from -r requirements.txt (line 18)) (0.1.4)\n",
      "Requirement already satisfied: natsort in /usr/local/lib/python3.10/dist-packages (from -r requirements.txt (line 19)) (8.4.0)\n",
      "Requirement already satisfied: timm in /usr/local/lib/python3.10/dist-packages (from -r requirements.txt (line 20)) (1.0.12)\n",
      "Requirement already satisfied: openpyxl in /usr/local/lib/python3.10/dist-packages (from -r requirements.txt (line 21)) (3.1.5)\n",
      "Requirement already satisfied: kornia in /usr/local/lib/python3.10/dist-packages (from -r requirements.txt (line 22)) (0.7.4)\n",
      "Requirement already satisfied: filelock in /usr/local/lib/python3.10/dist-packages (from torch->-r requirements.txt (line 1)) (3.9.0)\n",
      "Requirement already satisfied: typing-extensions in /usr/local/lib/python3.10/dist-packages (from torch->-r requirements.txt (line 1)) (4.4.0)\n",
      "Requirement already satisfied: sympy in /usr/local/lib/python3.10/dist-packages (from torch->-r requirements.txt (line 1)) (1.12)\n",
      "Requirement already satisfied: networkx in /usr/local/lib/python3.10/dist-packages (from torch->-r requirements.txt (line 1)) (3.0)\n",
      "Requirement already satisfied: jinja2 in /usr/local/lib/python3.10/dist-packages (from torch->-r requirements.txt (line 1)) (3.1.2)\n",
      "Requirement already satisfied: fsspec in /usr/local/lib/python3.10/dist-packages (from torch->-r requirements.txt (line 1)) (2024.10.0)\n",
      "Requirement already satisfied: triton==2.1.0 in /usr/local/lib/python3.10/dist-packages (from torch->-r requirements.txt (line 1)) (2.1.0)\n",
      "Requirement already satisfied: requests in /usr/local/lib/python3.10/dist-packages (from torchvision->-r requirements.txt (line 2)) (2.31.0)\n",
      "Requirement already satisfied: contourpy>=1.0.1 in /usr/local/lib/python3.10/dist-packages (from matplotlib->-r requirements.txt (line 4)) (1.3.1)\n",
      "Requirement already satisfied: cycler>=0.10 in /usr/local/lib/python3.10/dist-packages (from matplotlib->-r requirements.txt (line 4)) (0.12.1)\n",
      "Requirement already satisfied: fonttools>=4.22.0 in /usr/local/lib/python3.10/dist-packages (from matplotlib->-r requirements.txt (line 4)) (4.55.3)\n",
      "Requirement already satisfied: kiwisolver>=1.3.1 in /usr/local/lib/python3.10/dist-packages (from matplotlib->-r requirements.txt (line 4)) (1.4.7)\n",
      "Requirement already satisfied: packaging>=20.0 in /usr/local/lib/python3.10/dist-packages (from matplotlib->-r requirements.txt (line 4)) (23.2)\n",
      "Requirement already satisfied: pyparsing>=2.3.1 in /usr/lib/python3/dist-packages (from matplotlib->-r requirements.txt (line 4)) (2.4.7)\n",
      "Requirement already satisfied: python-dateutil>=2.7 in /usr/local/lib/python3.10/dist-packages (from matplotlib->-r requirements.txt (line 4)) (2.8.2)\n",
      "Requirement already satisfied: protobuf>=3.20 in /usr/local/lib/python3.10/dist-packages (from tensorboardX->-r requirements.txt (line 9)) (5.29.1)\n",
      "Requirement already satisfied: absl-py>=0.4 in /usr/local/lib/python3.10/dist-packages (from tensorboard->-r requirements.txt (line 10)) (2.1.0)\n",
      "Requirement already satisfied: grpcio>=1.48.2 in /usr/local/lib/python3.10/dist-packages (from tensorboard->-r requirements.txt (line 10)) (1.68.1)\n",
      "Requirement already satisfied: markdown>=2.6.8 in /usr/local/lib/python3.10/dist-packages (from tensorboard->-r requirements.txt (line 10)) (3.7)\n",
      "Requirement already satisfied: setuptools>=41.0.0 in /usr/local/lib/python3.10/dist-packages (from tensorboard->-r requirements.txt (line 10)) (68.2.2)\n",
      "Requirement already satisfied: six>1.9 in /usr/lib/python3/dist-packages (from tensorboard->-r requirements.txt (line 10)) (1.16.0)\n",
      "Requirement already satisfied: tensorboard-data-server<0.8.0,>=0.7.0 in /usr/local/lib/python3.10/dist-packages (from tensorboard->-r requirements.txt (line 10)) (0.7.2)\n",
      "Requirement already satisfied: werkzeug>=1.0.1 in /usr/local/lib/python3.10/dist-packages (from tensorboard->-r requirements.txt (line 10)) (3.1.3)\n",
      "Requirement already satisfied: joblib>=1.2.0 in /usr/local/lib/python3.10/dist-packages (from scikit-learn->-r requirements.txt (line 11)) (1.4.2)\n",
      "Requirement already satisfied: threadpoolctl>=3.1.0 in /usr/local/lib/python3.10/dist-packages (from scikit-learn->-r requirements.txt (line 11)) (3.5.0)\n",
      "Requirement already satisfied: imageio!=2.35.0,>=2.33 in /usr/local/lib/python3.10/dist-packages (from scikit-image->-r requirements.txt (line 12)) (2.36.1)\n",
      "Requirement already satisfied: tifffile>=2022.8.12 in /usr/local/lib/python3.10/dist-packages (from scikit-image->-r requirements.txt (line 12)) (2024.12.12)\n",
      "Requirement already satisfied: lazy-loader>=0.4 in /usr/local/lib/python3.10/dist-packages (from scikit-image->-r requirements.txt (line 12)) (0.4)\n",
      "Requirement already satisfied: pandas>=1.2 in /usr/local/lib/python3.10/dist-packages (from seaborn->-r requirements.txt (line 13)) (2.2.3)\n",
      "Requirement already satisfied: huggingface_hub in /usr/local/lib/python3.10/dist-packages (from timm->-r requirements.txt (line 20)) (0.26.5)\n",
      "Requirement already satisfied: safetensors in /usr/local/lib/python3.10/dist-packages (from timm->-r requirements.txt (line 20)) (0.4.5)\n",
      "Requirement already satisfied: et-xmlfile in /usr/local/lib/python3.10/dist-packages (from openpyxl->-r requirements.txt (line 21)) (2.0.0)\n",
      "Requirement already satisfied: kornia-rs>=0.1.0 in /usr/local/lib/python3.10/dist-packages (from kornia->-r requirements.txt (line 22)) (0.1.7)\n",
      "Requirement already satisfied: pytz>=2020.1 in /usr/local/lib/python3.10/dist-packages (from pandas>=1.2->seaborn->-r requirements.txt (line 13)) (2024.2)\n",
      "Requirement already satisfied: tzdata>=2022.7 in /usr/local/lib/python3.10/dist-packages (from pandas>=1.2->seaborn->-r requirements.txt (line 13)) (2024.2)\n",
      "Requirement already satisfied: MarkupSafe>=2.1.1 in /usr/local/lib/python3.10/dist-packages (from werkzeug>=1.0.1->tensorboard->-r requirements.txt (line 10)) (2.1.2)\n",
      "Requirement already satisfied: charset-normalizer<4,>=2 in /usr/local/lib/python3.10/dist-packages (from requests->torchvision->-r requirements.txt (line 2)) (2.1.1)\n",
      "Requirement already satisfied: idna<4,>=2.5 in /usr/local/lib/python3.10/dist-packages (from requests->torchvision->-r requirements.txt (line 2)) (3.4)\n",
      "Requirement already satisfied: urllib3<3,>=1.21.1 in /usr/local/lib/python3.10/dist-packages (from requests->torchvision->-r requirements.txt (line 2)) (1.26.13)\n",
      "Requirement already satisfied: certifi>=2017.4.17 in /usr/local/lib/python3.10/dist-packages (from requests->torchvision->-r requirements.txt (line 2)) (2022.12.7)\n",
      "Requirement already satisfied: mpmath>=0.19 in /usr/local/lib/python3.10/dist-packages (from sympy->torch->-r requirements.txt (line 1)) (1.3.0)\n",
      "\u001b[33mWARNING: Running pip as the 'root' user can result in broken permissions and conflicting behaviour with the system package manager. It is recommended to use a virtual environment instead: https://pip.pypa.io/warnings/venv\u001b[0m\u001b[33m\n",
      "\u001b[0m\n",
      "\u001b[1m[\u001b[0m\u001b[34;49mnotice\u001b[0m\u001b[1;39;49m]\u001b[0m\u001b[39;49m A new release of pip is available: \u001b[0m\u001b[31;49m23.3.1\u001b[0m\u001b[39;49m -> \u001b[0m\u001b[32;49m24.3.1\u001b[0m\n",
      "\u001b[1m[\u001b[0m\u001b[34;49mnotice\u001b[0m\u001b[1;39;49m]\u001b[0m\u001b[39;49m To update, run: \u001b[0m\u001b[32;49mpython -m pip install --upgrade pip\u001b[0m\n"
     ]
    }
   ],
   "source": [
    "!pip install -r requirements.txt"
   ]
  },
  {
   "cell_type": "code",
   "execution_count": 3,
   "id": "f808f2e3-1714-4837-81cf-9f84eed26bc3",
   "metadata": {},
   "outputs": [
    {
     "name": "stdout",
     "output_type": "stream",
     "text": [
      "Starting training...\n",
      "Model moved to cuda.\n",
      "Optimizer and scheduler initialized.\n",
      "\n",
      "Epoch 1 of 10\n"
     ]
    },
    {
     "name": "stderr",
     "output_type": "stream",
     "text": [
      "Training:   0%|          | 0/8 [00:00<?, ?it/s]"
     ]
    },
    {
     "name": "stdout",
     "output_type": "stream",
     "text": [
      "torch.Size([502, 313, 313])\n",
      "(502, 313, 313) (502, 313, 313)\n",
      "ssim:  0.7189003213842008\n",
      "torch.Size([502, 313, 313])\n",
      "(502, 313, 313) (502, 313, 313)\n",
      "ssim:  0.6487974361104545\n",
      "torch.Size([502, 313, 313])\n",
      "(502, 313, 313) (502, 313, 313)\n",
      "ssim:  0.6189928882546185\n",
      "torch.Size([502, 313, 313])\n",
      "(502, 313, 313) (502, 313, 313)\n",
      "ssim:  0.48021071712969854\n",
      "torch.Size([502, 313, 313])\n",
      "(502, 313, 313) (502, 313, 313)\n",
      "ssim:  0.6761693333001881\n"
     ]
    },
    {
     "name": "stderr",
     "output_type": "stream",
     "text": [
      "Training:  12%|█▎        | 1/8 [01:07<07:51, 67.34s/it]"
     ]
    },
    {
     "name": "stdout",
     "output_type": "stream",
     "text": [
      "torch.Size([502, 313, 313])\n",
      "(502, 313, 313) (502, 313, 313)\n",
      "ssim:  0.8014844957104589\n",
      "torch.Size([502, 313, 313])\n",
      "(502, 313, 313) (502, 313, 313)\n",
      "ssim:  0.7978505874845123\n",
      "torch.Size([502, 313, 313])\n",
      "(502, 313, 313) (502, 313, 313)\n",
      "ssim:  0.7885339937466574\n",
      "torch.Size([502, 313, 313])\n",
      "(502, 313, 313) (502, 313, 313)\n",
      "ssim:  0.4613319540537727\n",
      "torch.Size([502, 313, 313])\n",
      "(502, 313, 313) (502, 313, 313)\n",
      "ssim:  0.8243858577794543\n"
     ]
    },
    {
     "name": "stderr",
     "output_type": "stream",
     "text": [
      "Training:  25%|██▌       | 2/8 [01:32<04:14, 42.47s/it]"
     ]
    },
    {
     "name": "stdout",
     "output_type": "stream",
     "text": [
      "torch.Size([502, 313, 313])\n",
      "(502, 313, 313) (502, 313, 313)\n",
      "ssim:  0.8100189570024993\n",
      "torch.Size([502, 313, 313])\n",
      "(502, 313, 313) (502, 313, 313)\n",
      "ssim:  0.4761324832393359\n",
      "torch.Size([502, 313, 313])\n",
      "(502, 313, 313) (502, 313, 313)\n",
      "ssim:  0.5950264445037725\n",
      "torch.Size([502, 313, 313])\n",
      "(502, 313, 313) (502, 313, 313)\n",
      "ssim:  0.6264016911914313\n",
      "torch.Size([502, 313, 313])\n",
      "(502, 313, 313) (502, 313, 313)\n",
      "ssim:  0.6229351172376917\n"
     ]
    },
    {
     "name": "stderr",
     "output_type": "stream",
     "text": [
      "Training:  38%|███▊      | 3/8 [02:27<04:00, 48.16s/it]"
     ]
    },
    {
     "name": "stdout",
     "output_type": "stream",
     "text": [
      "torch.Size([502, 313, 313])\n",
      "(502, 313, 313) (502, 313, 313)\n",
      "ssim:  0.6310313746519888\n",
      "torch.Size([502, 313, 313])\n",
      "(502, 313, 313) (502, 313, 313)\n",
      "ssim:  0.5130316018954066\n",
      "torch.Size([502, 313, 313])\n",
      "(502, 313, 313) (502, 313, 313)\n",
      "ssim:  0.7831037126490806\n",
      "torch.Size([502, 313, 313])\n",
      "(502, 313, 313) (502, 313, 313)\n",
      "ssim:  0.8028935798908964\n",
      "torch.Size([502, 313, 313])\n",
      "(502, 313, 313) (502, 313, 313)\n",
      "ssim:  0.6781780540156547\n"
     ]
    },
    {
     "name": "stderr",
     "output_type": "stream",
     "text": [
      "Training:  50%|█████     | 4/8 [02:52<02:35, 38.92s/it]"
     ]
    },
    {
     "name": "stdout",
     "output_type": "stream",
     "text": [
      "torch.Size([502, 313, 313])\n",
      "(502, 313, 313) (502, 313, 313)\n",
      "ssim:  0.5981213398730801\n",
      "torch.Size([502, 313, 313])\n",
      "(502, 313, 313) (502, 313, 313)\n",
      "ssim:  0.5823458882612752\n",
      "torch.Size([502, 313, 313])\n",
      "(502, 313, 313) (502, 313, 313)\n",
      "ssim:  0.5677306153553474\n",
      "torch.Size([502, 313, 313])\n",
      "(502, 313, 313) (502, 313, 313)\n",
      "ssim:  0.383596001592228\n",
      "torch.Size([502, 313, 313])\n",
      "(502, 313, 313) (502, 313, 313)\n",
      "ssim:  0.621315009755456\n"
     ]
    },
    {
     "name": "stderr",
     "output_type": "stream",
     "text": [
      "Training:  62%|██████▎   | 5/8 [03:47<02:14, 44.96s/it]"
     ]
    },
    {
     "name": "stdout",
     "output_type": "stream",
     "text": [
      "torch.Size([502, 313, 313])\n",
      "(502, 313, 313) (502, 313, 313)\n",
      "ssim:  0.3631313345166147\n",
      "torch.Size([502, 313, 313])\n",
      "(502, 313, 313) (502, 313, 313)\n",
      "ssim:  0.41202583767220546\n",
      "torch.Size([502, 313, 313])\n",
      "(502, 313, 313) (502, 313, 313)\n",
      "ssim:  0.423087889760367\n",
      "torch.Size([502, 313, 313])\n",
      "(502, 313, 313) (502, 313, 313)\n",
      "ssim:  0.809434745485459\n",
      "torch.Size([502, 313, 313])\n",
      "(502, 313, 313) (502, 313, 313)\n",
      "ssim:  0.5236353756938263\n"
     ]
    },
    {
     "name": "stderr",
     "output_type": "stream",
     "text": [
      "Training:  75%|███████▌  | 6/8 [04:15<01:18, 39.01s/it]"
     ]
    },
    {
     "name": "stdout",
     "output_type": "stream",
     "text": [
      "torch.Size([502, 313, 313])\n",
      "(502, 313, 313) (502, 313, 313)\n",
      "ssim:  0.5888004545729301\n",
      "torch.Size([502, 313, 313])\n",
      "(502, 313, 313) (502, 313, 313)\n",
      "ssim:  0.6290884427702151\n",
      "torch.Size([502, 313, 313])\n",
      "(502, 313, 313) (502, 313, 313)\n",
      "ssim:  0.637537623312114\n",
      "torch.Size([502, 313, 313])\n",
      "(502, 313, 313) (502, 313, 313)\n",
      "ssim:  0.5484651096286235\n",
      "torch.Size([502, 313, 313])\n",
      "(502, 313, 313) (502, 313, 313)\n",
      "ssim:  0.7780563539308997\n"
     ]
    },
    {
     "name": "stderr",
     "output_type": "stream",
     "text": [
      "Training:  88%|████████▊ | 7/8 [05:11<00:44, 44.81s/it]"
     ]
    },
    {
     "name": "stdout",
     "output_type": "stream",
     "text": [
      "torch.Size([502, 313, 313])\n",
      "(502, 313, 313) (502, 313, 313)\n",
      "ssim:  0.5022729332281282\n",
      "torch.Size([502, 313, 313])\n",
      "(502, 313, 313) (502, 313, 313)\n",
      "ssim:  0.8134240733824895\n",
      "torch.Size([502, 313, 313])\n",
      "(502, 313, 313) (502, 313, 313)\n",
      "ssim:  0.7095882885893294\n",
      "torch.Size([502, 313, 313])\n",
      "(502, 313, 313) (502, 313, 313)\n",
      "ssim:  0.6072430173781099\n",
      "torch.Size([502, 313, 313])\n",
      "(502, 313, 313) (502, 313, 313)\n",
      "ssim:  0.4617611072121874\n"
     ]
    },
    {
     "name": "stderr",
     "output_type": "stream",
     "text": [
      "Training: 100%|██████████| 8/8 [05:36<00:00, 42.09s/it]\n"
     ]
    },
    {
     "name": "stdout",
     "output_type": "stream",
     "text": [
      "Epoch 1 Training Loss: 0.5556\n",
      "Validating...\n"
     ]
    },
    {
     "name": "stderr",
     "output_type": "stream",
     "text": [
      "Validating:   0%|          | 0/4 [00:00<?, ?it/s]"
     ]
    },
    {
     "name": "stdout",
     "output_type": "stream",
     "text": [
      "(502, 313, 313) (502, 313, 313)\n",
      "ssim:  0.848939074033985\n",
      "(502, 313, 313) (502, 313, 313)\n",
      "ssim:  0.8189106451960634\n",
      "(502, 313, 313) (502, 313, 313)\n",
      "ssim:  0.6947763419296257\n",
      "(502, 313, 313) (502, 313, 313)\n",
      "ssim:  0.6858749794710622\n",
      "(502, 313, 313) (502, 313, 313)\n"
     ]
    },
    {
     "name": "stderr",
     "output_type": "stream",
     "text": [
      "Validating:  25%|██▌       | 1/4 [00:53<02:41, 53.89s/it]"
     ]
    },
    {
     "name": "stdout",
     "output_type": "stream",
     "text": [
      "ssim:  0.7474171944119435\n",
      "(502, 313, 313) (502, 313, 313)\n",
      "ssim:  0.7839194351521005\n",
      "(502, 313, 313) (502, 313, 313)\n",
      "ssim:  0.836182078625152\n",
      "(502, 313, 313) (502, 313, 313)\n",
      "ssim:  0.7186777281680365\n",
      "(502, 313, 313) (502, 313, 313)\n",
      "ssim:  0.6886872857875499\n",
      "(502, 313, 313) (502, 313, 313)\n"
     ]
    },
    {
     "name": "stderr",
     "output_type": "stream",
     "text": [
      "Validating:  50%|█████     | 2/4 [01:17<01:12, 36.32s/it]"
     ]
    },
    {
     "name": "stdout",
     "output_type": "stream",
     "text": [
      "ssim:  0.5687704467163881\n",
      "(502, 313, 313) (502, 313, 313)\n",
      "ssim:  0.7854569284282586\n",
      "(502, 313, 313) (502, 313, 313)\n",
      "ssim:  0.7645773718387264\n",
      "(502, 313, 313) (502, 313, 313)\n",
      "ssim:  0.6657894517809756\n",
      "(502, 313, 313) (502, 313, 313)\n",
      "ssim:  0.4285989564801635\n",
      "(502, 313, 313) (502, 313, 313)\n"
     ]
    },
    {
     "name": "stderr",
     "output_type": "stream",
     "text": [
      "Validating:  75%|███████▌  | 3/4 [02:13<00:45, 45.16s/it]"
     ]
    },
    {
     "name": "stdout",
     "output_type": "stream",
     "text": [
      "ssim:  0.5782477273707985\n",
      "(502, 313, 313) (502, 313, 313)\n",
      "ssim:  0.7779657465044617\n",
      "(502, 313, 313) (502, 313, 313)\n",
      "ssim:  0.5937285701164768\n",
      "(502, 313, 313) (502, 313, 313)\n",
      "ssim:  0.6045598356923761\n",
      "(502, 313, 313) (502, 313, 313)\n",
      "ssim:  0.64873399112322\n",
      "(502, 313, 313) (502, 313, 313)\n"
     ]
    },
    {
     "name": "stderr",
     "output_type": "stream",
     "text": [
      "Validating: 100%|██████████| 4/4 [02:38<00:00, 39.53s/it]"
     ]
    },
    {
     "name": "stdout",
     "output_type": "stream",
     "text": [
      "ssim:  0.7730871153009575\n",
      "Validation Loss at Epoch 1: 0.8626\n",
      "\n",
      "Epoch 2 of 10\n"
     ]
    },
    {
     "name": "stderr",
     "output_type": "stream",
     "text": [
      "\n",
      "Training:   0%|          | 0/8 [00:00<?, ?it/s]"
     ]
    },
    {
     "name": "stdout",
     "output_type": "stream",
     "text": [
      "torch.Size([502, 313, 313])\n",
      "(502, 313, 313) (502, 313, 313)\n",
      "ssim:  0.8086092816350239\n",
      "torch.Size([502, 313, 313])\n",
      "(502, 313, 313) (502, 313, 313)\n",
      "ssim:  0.8243514827172699\n",
      "torch.Size([502, 313, 313])\n",
      "(502, 313, 313) (502, 313, 313)\n",
      "ssim:  0.8660400276633428\n",
      "torch.Size([502, 313, 313])\n",
      "(502, 313, 313) (502, 313, 313)\n",
      "ssim:  0.7646395645406652\n",
      "torch.Size([502, 313, 313])\n",
      "(502, 313, 313) (502, 313, 313)\n",
      "ssim:  0.728026664952559\n"
     ]
    },
    {
     "name": "stderr",
     "output_type": "stream",
     "text": [
      "Training:  12%|█▎        | 1/8 [00:53<06:13, 53.36s/it]"
     ]
    },
    {
     "name": "stdout",
     "output_type": "stream",
     "text": [
      "torch.Size([502, 313, 313])\n",
      "(502, 313, 313) (502, 313, 313)\n",
      "ssim:  0.8009253873446487\n",
      "torch.Size([502, 313, 313])\n",
      "(502, 313, 313) (502, 313, 313)\n",
      "ssim:  0.6617379209948021\n",
      "torch.Size([502, 313, 313])\n",
      "(502, 313, 313) (502, 313, 313)\n",
      "ssim:  0.583813449904005\n",
      "torch.Size([502, 313, 313])\n",
      "(502, 313, 313) (502, 313, 313)\n",
      "ssim:  0.6379772227212744\n",
      "torch.Size([502, 313, 313])\n",
      "(502, 313, 313) (502, 313, 313)\n",
      "ssim:  0.6883795492049407\n"
     ]
    },
    {
     "name": "stderr",
     "output_type": "stream",
     "text": [
      "Training:  25%|██▌       | 2/8 [01:18<03:39, 36.65s/it]"
     ]
    },
    {
     "name": "stdout",
     "output_type": "stream",
     "text": [
      "torch.Size([502, 313, 313])\n",
      "(502, 313, 313) (502, 313, 313)\n",
      "ssim:  0.830029970475424\n",
      "torch.Size([502, 313, 313])\n",
      "(502, 313, 313) (502, 313, 313)\n",
      "ssim:  0.5619869029096444\n",
      "torch.Size([502, 313, 313])\n",
      "(502, 313, 313) (502, 313, 313)\n",
      "ssim:  0.8169284486407473\n",
      "torch.Size([502, 313, 313])\n",
      "(502, 313, 313) (502, 313, 313)\n",
      "ssim:  0.8180256262657478\n",
      "torch.Size([502, 313, 313])\n",
      "(502, 313, 313) (502, 313, 313)\n",
      "ssim:  0.6571126670773842\n"
     ]
    },
    {
     "name": "stderr",
     "output_type": "stream",
     "text": [
      "Training:  38%|███▊      | 3/8 [02:13<03:44, 44.99s/it]"
     ]
    },
    {
     "name": "stdout",
     "output_type": "stream",
     "text": [
      "torch.Size([502, 313, 313])\n",
      "(502, 313, 313) (502, 313, 313)\n",
      "ssim:  0.6278283012993136\n",
      "torch.Size([502, 313, 313])\n",
      "(502, 313, 313) (502, 313, 313)\n",
      "ssim:  0.6656527997767544\n",
      "torch.Size([502, 313, 313])\n",
      "(502, 313, 313) (502, 313, 313)\n",
      "ssim:  0.7473478129801697\n",
      "torch.Size([502, 313, 313])\n",
      "(502, 313, 313) (502, 313, 313)\n",
      "ssim:  0.5550248421417513\n",
      "torch.Size([502, 313, 313])\n",
      "(502, 313, 313) (502, 313, 313)\n",
      "ssim:  0.8459549293067276\n"
     ]
    },
    {
     "name": "stderr",
     "output_type": "stream",
     "text": [
      "Training:  50%|█████     | 4/8 [02:38<02:28, 37.09s/it]"
     ]
    },
    {
     "name": "stdout",
     "output_type": "stream",
     "text": [
      "torch.Size([502, 313, 313])\n",
      "(502, 313, 313) (502, 313, 313)\n",
      "ssim:  0.6382746467398308\n",
      "torch.Size([502, 313, 313])\n",
      "(502, 313, 313) (502, 313, 313)\n",
      "ssim:  0.4174746508604071\n",
      "torch.Size([502, 313, 313])\n",
      "(502, 313, 313) (502, 313, 313)\n",
      "ssim:  0.47296292742530555\n",
      "torch.Size([502, 313, 313])\n",
      "(502, 313, 313) (502, 313, 313)\n",
      "ssim:  0.5996846365036945\n",
      "torch.Size([502, 313, 313])\n",
      "(502, 313, 313) (502, 313, 313)\n",
      "ssim:  0.7065363166933593\n"
     ]
    },
    {
     "name": "stderr",
     "output_type": "stream",
     "text": [
      "Training:  62%|██████▎   | 5/8 [03:36<02:13, 44.56s/it]"
     ]
    },
    {
     "name": "stdout",
     "output_type": "stream",
     "text": [
      "torch.Size([502, 313, 313])\n",
      "(502, 313, 313) (502, 313, 313)\n",
      "ssim:  0.4694537819574646\n",
      "torch.Size([502, 313, 313])\n",
      "(502, 313, 313) (502, 313, 313)\n",
      "ssim:  0.8283691109169453\n",
      "torch.Size([502, 313, 313])\n",
      "(502, 313, 313) (502, 313, 313)\n",
      "ssim:  0.45374597142298734\n",
      "torch.Size([502, 313, 313])\n",
      "(502, 313, 313) (502, 313, 313)\n",
      "ssim:  0.6154845595280571\n",
      "torch.Size([502, 313, 313])\n",
      "(502, 313, 313) (502, 313, 313)\n",
      "ssim:  0.6282539538656472\n"
     ]
    },
    {
     "name": "stderr",
     "output_type": "stream",
     "text": [
      "Training:  75%|███████▌  | 6/8 [04:00<01:15, 37.90s/it]"
     ]
    },
    {
     "name": "stdout",
     "output_type": "stream",
     "text": [
      "torch.Size([502, 313, 313])\n",
      "(502, 313, 313) (502, 313, 313)\n",
      "ssim:  0.5466658228915589\n",
      "torch.Size([502, 313, 313])\n",
      "(502, 313, 313) (502, 313, 313)\n",
      "ssim:  0.6523442235220662\n",
      "torch.Size([502, 313, 313])\n",
      "(502, 313, 313) (502, 313, 313)\n",
      "ssim:  0.6672594304946158\n",
      "torch.Size([502, 313, 313])\n",
      "(502, 313, 313) (502, 313, 313)\n",
      "ssim:  0.6386334708393427\n",
      "torch.Size([502, 313, 313])\n",
      "(502, 313, 313) (502, 313, 313)\n",
      "ssim:  0.7312983720620795\n"
     ]
    },
    {
     "name": "stderr",
     "output_type": "stream",
     "text": [
      "Training:  88%|████████▊ | 7/8 [04:56<00:43, 43.80s/it]"
     ]
    },
    {
     "name": "stdout",
     "output_type": "stream",
     "text": [
      "torch.Size([502, 313, 313])\n",
      "(502, 313, 313) (502, 313, 313)\n",
      "ssim:  0.6363875456153498\n",
      "torch.Size([502, 313, 313])\n",
      "(502, 313, 313) (502, 313, 313)\n",
      "ssim:  0.6452731793730518\n",
      "torch.Size([502, 313, 313])\n",
      "(502, 313, 313) (502, 313, 313)\n",
      "ssim:  0.6743059175410734\n",
      "torch.Size([502, 313, 313])\n",
      "(502, 313, 313) (502, 313, 313)\n",
      "ssim:  0.8380906468057836\n",
      "torch.Size([502, 313, 313])\n",
      "(502, 313, 313) (502, 313, 313)\n",
      "ssim:  0.779850928241501\n"
     ]
    },
    {
     "name": "stderr",
     "output_type": "stream",
     "text": [
      "Training: 100%|██████████| 8/8 [05:21<00:00, 40.24s/it]\n"
     ]
    },
    {
     "name": "stdout",
     "output_type": "stream",
     "text": [
      "Epoch 2 Training Loss: 0.4694\n",
      "Validating...\n"
     ]
    },
    {
     "name": "stderr",
     "output_type": "stream",
     "text": [
      "Validating:   0%|          | 0/4 [00:00<?, ?it/s]"
     ]
    },
    {
     "name": "stdout",
     "output_type": "stream",
     "text": [
      "(502, 313, 313) (502, 313, 313)\n",
      "ssim:  0.7290121957707363\n",
      "(502, 313, 313) (502, 313, 313)\n",
      "ssim:  0.834422383849002\n",
      "(502, 313, 313) (502, 313, 313)\n",
      "ssim:  0.8394370735623835\n",
      "(502, 313, 313) (502, 313, 313)\n",
      "ssim:  0.7500987344210718\n",
      "(502, 313, 313) (502, 313, 313)\n"
     ]
    },
    {
     "name": "stderr",
     "output_type": "stream",
     "text": [
      "Validating:  25%|██▌       | 1/4 [00:53<02:39, 53.04s/it]"
     ]
    },
    {
     "name": "stdout",
     "output_type": "stream",
     "text": [
      "ssim:  0.8496078272314649\n",
      "(502, 313, 313) (502, 313, 313)\n",
      "ssim:  0.8755457840164591\n",
      "(502, 313, 313) (502, 313, 313)\n",
      "ssim:  0.7227644461730752\n",
      "(502, 313, 313) (502, 313, 313)\n",
      "ssim:  0.5724417204864768\n",
      "(502, 313, 313) (502, 313, 313)\n",
      "ssim:  0.6110445305329782\n",
      "(502, 313, 313) (502, 313, 313)\n"
     ]
    },
    {
     "name": "stderr",
     "output_type": "stream",
     "text": [
      "Validating:  50%|█████     | 2/4 [01:17<01:12, 36.32s/it]"
     ]
    },
    {
     "name": "stdout",
     "output_type": "stream",
     "text": [
      "ssim:  0.8132460721980449\n",
      "(502, 313, 313) (502, 313, 313)\n",
      "ssim:  0.8457362197405814\n",
      "(502, 313, 313) (502, 313, 313)\n",
      "ssim:  0.8044265004166186\n",
      "(502, 313, 313) (502, 313, 313)\n",
      "ssim:  0.6385321412728109\n",
      "(502, 313, 313) (502, 313, 313)\n",
      "ssim:  0.7346417864371936\n",
      "(502, 313, 313) (502, 313, 313)\n"
     ]
    },
    {
     "name": "stderr",
     "output_type": "stream",
     "text": [
      "Validating:  75%|███████▌  | 3/4 [02:14<00:45, 45.81s/it]"
     ]
    },
    {
     "name": "stdout",
     "output_type": "stream",
     "text": [
      "ssim:  0.4892580337293034\n",
      "(502, 313, 313) (502, 313, 313)\n",
      "ssim:  0.5961976100760951\n",
      "(502, 313, 313) (502, 313, 313)\n",
      "ssim:  0.513532567268247\n",
      "(502, 313, 313) (502, 313, 313)\n",
      "ssim:  0.7841072750780651\n",
      "(502, 313, 313) (502, 313, 313)\n",
      "ssim:  0.8078644549689513\n",
      "(502, 313, 313) (502, 313, 313)\n"
     ]
    },
    {
     "name": "stderr",
     "output_type": "stream",
     "text": [
      "Validating: 100%|██████████| 4/4 [02:39<00:00, 39.77s/it]"
     ]
    },
    {
     "name": "stdout",
     "output_type": "stream",
     "text": [
      "ssim:  0.532583927910007\n",
      "Validation Loss at Epoch 2: 0.8679\n",
      "\n",
      "Epoch 3 of 10\n"
     ]
    },
    {
     "name": "stderr",
     "output_type": "stream",
     "text": [
      "\n",
      "Training:   0%|          | 0/8 [00:00<?, ?it/s]"
     ]
    },
    {
     "name": "stdout",
     "output_type": "stream",
     "text": [
      "torch.Size([502, 313, 313])\n",
      "(502, 313, 313) (502, 313, 313)\n",
      "ssim:  0.5404916406607841\n",
      "torch.Size([502, 313, 313])\n",
      "(502, 313, 313) (502, 313, 313)\n",
      "ssim:  0.699435115396657\n",
      "torch.Size([502, 313, 313])\n",
      "(502, 313, 313) (502, 313, 313)\n",
      "ssim:  0.5908277170450916\n",
      "torch.Size([502, 313, 313])\n",
      "(502, 313, 313) (502, 313, 313)\n",
      "ssim:  0.8229383182440037\n",
      "torch.Size([502, 313, 313])\n",
      "(502, 313, 313) (502, 313, 313)\n",
      "ssim:  0.5560890800940932\n"
     ]
    },
    {
     "name": "stderr",
     "output_type": "stream",
     "text": [
      "Training:  12%|█▎        | 1/8 [00:56<06:32, 56.04s/it]"
     ]
    },
    {
     "name": "stdout",
     "output_type": "stream",
     "text": [
      "torch.Size([502, 313, 313])\n",
      "(502, 313, 313) (502, 313, 313)\n",
      "ssim:  0.7753502453565544\n",
      "torch.Size([502, 313, 313])\n",
      "(502, 313, 313) (502, 313, 313)\n",
      "ssim:  0.7947819852909483\n",
      "torch.Size([502, 313, 313])\n",
      "(502, 313, 313) (502, 313, 313)\n",
      "ssim:  0.8324153754960845\n",
      "torch.Size([502, 313, 313])\n",
      "(502, 313, 313) (502, 313, 313)\n",
      "ssim:  0.6341220471673861\n",
      "torch.Size([502, 313, 313])\n",
      "(502, 313, 313) (502, 313, 313)\n",
      "ssim:  0.7255296361575899\n"
     ]
    },
    {
     "name": "stderr",
     "output_type": "stream",
     "text": [
      "Training:  25%|██▌       | 2/8 [01:20<03:45, 37.53s/it]"
     ]
    },
    {
     "name": "stdout",
     "output_type": "stream",
     "text": [
      "torch.Size([502, 313, 313])\n",
      "(502, 313, 313) (502, 313, 313)\n",
      "ssim:  0.6908851916455504\n",
      "torch.Size([502, 313, 313])\n",
      "(502, 313, 313) (502, 313, 313)\n",
      "ssim:  0.834637509940953\n",
      "torch.Size([502, 313, 313])\n",
      "(502, 313, 313) (502, 313, 313)\n",
      "ssim:  0.6904043953786472\n",
      "torch.Size([502, 313, 313])\n",
      "(502, 313, 313) (502, 313, 313)\n",
      "ssim:  0.5637752032484359\n",
      "torch.Size([502, 313, 313])\n",
      "(502, 313, 313) (502, 313, 313)\n",
      "ssim:  0.8193406930754963\n"
     ]
    },
    {
     "name": "stderr",
     "output_type": "stream",
     "text": [
      "Training:  38%|███▊      | 3/8 [02:16<03:50, 46.04s/it]"
     ]
    },
    {
     "name": "stdout",
     "output_type": "stream",
     "text": [
      "torch.Size([502, 313, 313])\n",
      "(502, 313, 313) (502, 313, 313)\n",
      "ssim:  0.8353459189708266\n",
      "torch.Size([502, 313, 313])\n",
      "(502, 313, 313) (502, 313, 313)\n",
      "ssim:  0.7348675260311993\n",
      "torch.Size([502, 313, 313])\n",
      "(502, 313, 313) (502, 313, 313)\n",
      "ssim:  0.6605318032502943\n",
      "torch.Size([502, 313, 313])\n",
      "(502, 313, 313) (502, 313, 313)\n",
      "ssim:  0.6661364268685085\n",
      "torch.Size([502, 313, 313])\n",
      "(502, 313, 313) (502, 313, 313)\n",
      "ssim:  0.842958893582009\n"
     ]
    },
    {
     "name": "stderr",
     "output_type": "stream",
     "text": [
      "Training:  50%|█████     | 4/8 [02:41<02:30, 37.64s/it]"
     ]
    },
    {
     "name": "stdout",
     "output_type": "stream",
     "text": [
      "torch.Size([502, 313, 313])\n",
      "(502, 313, 313) (502, 313, 313)\n",
      "ssim:  0.735153291391526\n",
      "torch.Size([502, 313, 313])\n",
      "(502, 313, 313) (502, 313, 313)\n",
      "ssim:  0.4924084697815506\n",
      "torch.Size([502, 313, 313])\n",
      "(502, 313, 313) (502, 313, 313)\n",
      "ssim:  0.8393464714544222\n",
      "torch.Size([502, 313, 313])\n",
      "(502, 313, 313) (502, 313, 313)\n",
      "ssim:  0.8358936322989415\n",
      "torch.Size([502, 313, 313])\n",
      "(502, 313, 313) (502, 313, 313)\n",
      "ssim:  0.826073786437242\n"
     ]
    },
    {
     "name": "stderr",
     "output_type": "stream",
     "text": [
      "Training:  62%|██████▎   | 5/8 [03:43<02:19, 46.35s/it]"
     ]
    },
    {
     "name": "stdout",
     "output_type": "stream",
     "text": [
      "torch.Size([502, 313, 313])\n",
      "(502, 313, 313) (502, 313, 313)\n",
      "ssim:  0.7334018521077985\n",
      "torch.Size([502, 313, 313])\n",
      "(502, 313, 313) (502, 313, 313)\n",
      "ssim:  0.662369444595141\n",
      "torch.Size([502, 313, 313])\n",
      "(502, 313, 313) (502, 313, 313)\n",
      "ssim:  0.8246862111811599\n",
      "torch.Size([502, 313, 313])\n",
      "(502, 313, 313) (502, 313, 313)\n",
      "ssim:  0.5170637224906849\n",
      "torch.Size([502, 313, 313])\n",
      "(502, 313, 313) (502, 313, 313)\n",
      "ssim:  0.46098977277692743\n"
     ]
    },
    {
     "name": "stderr",
     "output_type": "stream",
     "text": [
      "Training:  75%|███████▌  | 6/8 [04:08<01:18, 39.09s/it]"
     ]
    },
    {
     "name": "stdout",
     "output_type": "stream",
     "text": [
      "torch.Size([502, 313, 313])\n",
      "(502, 313, 313) (502, 313, 313)\n",
      "ssim:  0.7283332750946686\n",
      "torch.Size([502, 313, 313])\n",
      "(502, 313, 313) (502, 313, 313)\n",
      "ssim:  0.571837467998829\n",
      "torch.Size([502, 313, 313])\n",
      "(502, 313, 313) (502, 313, 313)\n",
      "ssim:  0.7753672482526613\n",
      "torch.Size([502, 313, 313])\n",
      "(502, 313, 313) (502, 313, 313)\n",
      "ssim:  0.6893261658653254\n",
      "torch.Size([502, 313, 313])\n",
      "(502, 313, 313) (502, 313, 313)\n",
      "ssim:  0.8481708504249319\n"
     ]
    },
    {
     "name": "stderr",
     "output_type": "stream",
     "text": [
      "Training:  88%|████████▊ | 7/8 [05:09<00:46, 46.17s/it]"
     ]
    },
    {
     "name": "stdout",
     "output_type": "stream",
     "text": [
      "torch.Size([502, 313, 313])\n",
      "(502, 313, 313) (502, 313, 313)\n",
      "ssim:  0.6203716291616538\n",
      "torch.Size([502, 313, 313])\n",
      "(502, 313, 313) (502, 313, 313)\n",
      "ssim:  0.8423861353439185\n",
      "torch.Size([502, 313, 313])\n",
      "(502, 313, 313) (502, 313, 313)\n",
      "ssim:  0.6683973194133405\n",
      "torch.Size([502, 313, 313])\n",
      "(502, 313, 313) (502, 313, 313)\n",
      "ssim:  0.7596945347692617\n",
      "torch.Size([502, 313, 313])\n",
      "(502, 313, 313) (502, 313, 313)\n",
      "ssim:  0.6942788890330445\n"
     ]
    },
    {
     "name": "stderr",
     "output_type": "stream",
     "text": [
      "Training: 100%|██████████| 8/8 [05:34<00:00, 41.80s/it]\n"
     ]
    },
    {
     "name": "stdout",
     "output_type": "stream",
     "text": [
      "Epoch 3 Training Loss: 0.4336\n",
      "Validating...\n"
     ]
    },
    {
     "name": "stderr",
     "output_type": "stream",
     "text": [
      "Validating:   0%|          | 0/4 [00:00<?, ?it/s]"
     ]
    },
    {
     "name": "stdout",
     "output_type": "stream",
     "text": [
      "(502, 313, 313) (502, 313, 313)\n",
      "ssim:  0.8625731038688634\n",
      "(502, 313, 313) (502, 313, 313)\n",
      "ssim:  0.7726452132494263\n",
      "(502, 313, 313) (502, 313, 313)\n",
      "ssim:  0.6103445823917264\n",
      "(502, 313, 313) (502, 313, 313)\n",
      "ssim:  0.8536045937916598\n",
      "(502, 313, 313) (502, 313, 313)\n"
     ]
    },
    {
     "name": "stderr",
     "output_type": "stream",
     "text": [
      "Validating:  25%|██▌       | 1/4 [00:55<02:47, 55.93s/it]"
     ]
    },
    {
     "name": "stdout",
     "output_type": "stream",
     "text": [
      "ssim:  0.8873312119189624\n",
      "(502, 313, 313) (502, 313, 313)\n",
      "ssim:  0.6556921523728195\n",
      "(502, 313, 313) (502, 313, 313)\n",
      "ssim:  0.8290207342597367\n",
      "(502, 313, 313) (502, 313, 313)\n",
      "ssim:  0.8701939983217202\n",
      "(502, 313, 313) (502, 313, 313)\n",
      "ssim:  0.7853560308169781\n",
      "(502, 313, 313) (502, 313, 313)\n"
     ]
    },
    {
     "name": "stderr",
     "output_type": "stream",
     "text": [
      "Validating:  50%|█████     | 2/4 [01:20<01:14, 37.47s/it]"
     ]
    },
    {
     "name": "stdout",
     "output_type": "stream",
     "text": [
      "ssim:  0.6445527484402449\n",
      "(502, 313, 313) (502, 313, 313)\n",
      "ssim:  0.7954478320893241\n",
      "(502, 313, 313) (502, 313, 313)\n",
      "ssim:  0.8233944004416252\n",
      "(502, 313, 313) (502, 313, 313)\n",
      "ssim:  0.5782755202462031\n",
      "(502, 313, 313) (502, 313, 313)\n",
      "ssim:  0.7155259343689744\n",
      "(502, 313, 313) (502, 313, 313)\n"
     ]
    },
    {
     "name": "stderr",
     "output_type": "stream",
     "text": [
      "Validating:  75%|███████▌  | 3/4 [02:18<00:47, 47.05s/it]"
     ]
    },
    {
     "name": "stdout",
     "output_type": "stream",
     "text": [
      "ssim:  0.6854243718953248\n",
      "(502, 313, 313) (502, 313, 313)\n",
      "ssim:  0.8120431794166562\n",
      "(502, 313, 313) (502, 313, 313)\n",
      "ssim:  0.73475419167777\n",
      "(502, 313, 313) (502, 313, 313)\n",
      "ssim:  0.6713774761553105\n",
      "(502, 313, 313) (502, 313, 313)\n",
      "ssim:  0.8058218681104506\n",
      "(502, 313, 313) (502, 313, 313)\n"
     ]
    },
    {
     "name": "stderr",
     "output_type": "stream",
     "text": [
      "Validating: 100%|██████████| 4/4 [02:43<00:00, 40.82s/it]"
     ]
    },
    {
     "name": "stdout",
     "output_type": "stream",
     "text": [
      "ssim:  0.8168021377186353\n",
      "Validation Loss at Epoch 3: 0.7907\n",
      "\n",
      "Epoch 4 of 10\n"
     ]
    },
    {
     "name": "stderr",
     "output_type": "stream",
     "text": [
      "\n",
      "Training:   0%|          | 0/8 [00:00<?, ?it/s]"
     ]
    },
    {
     "name": "stdout",
     "output_type": "stream",
     "text": [
      "torch.Size([502, 313, 313])\n",
      "(502, 313, 313) (502, 313, 313)\n",
      "ssim:  0.6276025742469029\n",
      "torch.Size([502, 313, 313])\n",
      "(502, 313, 313) (502, 313, 313)\n",
      "ssim:  0.6920921132207972\n",
      "torch.Size([502, 313, 313])\n",
      "(502, 313, 313) (502, 313, 313)\n",
      "ssim:  0.7461579593030387\n",
      "torch.Size([502, 313, 313])\n",
      "(502, 313, 313) (502, 313, 313)\n",
      "ssim:  0.8639783821806241\n",
      "torch.Size([502, 313, 313])\n",
      "(502, 313, 313) (502, 313, 313)\n",
      "ssim:  0.7366115612032473\n"
     ]
    },
    {
     "name": "stderr",
     "output_type": "stream",
     "text": [
      "Training:  12%|█▎        | 1/8 [00:55<06:26, 55.23s/it]"
     ]
    },
    {
     "name": "stdout",
     "output_type": "stream",
     "text": [
      "torch.Size([502, 313, 313])\n",
      "(502, 313, 313) (502, 313, 313)\n",
      "ssim:  0.8416315231664839\n",
      "torch.Size([502, 313, 313])\n",
      "(502, 313, 313) (502, 313, 313)\n",
      "ssim:  0.8474525045173491\n",
      "torch.Size([502, 313, 313])\n",
      "(502, 313, 313) (502, 313, 313)\n",
      "ssim:  0.7950804442988463\n",
      "torch.Size([502, 313, 313])\n",
      "(502, 313, 313) (502, 313, 313)\n",
      "ssim:  0.894087688353725\n",
      "torch.Size([502, 313, 313])\n",
      "(502, 313, 313) (502, 313, 313)\n",
      "ssim:  0.7859738962724357\n"
     ]
    },
    {
     "name": "stderr",
     "output_type": "stream",
     "text": [
      "Training:  25%|██▌       | 2/8 [01:22<03:52, 38.75s/it]"
     ]
    },
    {
     "name": "stdout",
     "output_type": "stream",
     "text": [
      "torch.Size([502, 313, 313])\n",
      "(502, 313, 313) (502, 313, 313)\n",
      "ssim:  0.7203319432872171\n",
      "torch.Size([502, 313, 313])\n",
      "(502, 313, 313) (502, 313, 313)\n",
      "ssim:  0.6280625052245076\n",
      "torch.Size([502, 313, 313])\n",
      "(502, 313, 313) (502, 313, 313)\n",
      "ssim:  0.8498212247103598\n",
      "torch.Size([502, 313, 313])\n",
      "(502, 313, 313) (502, 313, 313)\n",
      "ssim:  0.7215815830344423\n",
      "torch.Size([502, 313, 313])\n",
      "(502, 313, 313) (502, 313, 313)\n",
      "ssim:  0.6308804598728954\n"
     ]
    },
    {
     "name": "stderr",
     "output_type": "stream",
     "text": [
      "Training:  38%|███▊      | 3/8 [02:22<04:02, 48.51s/it]"
     ]
    },
    {
     "name": "stdout",
     "output_type": "stream",
     "text": [
      "torch.Size([502, 313, 313])\n",
      "(502, 313, 313) (502, 313, 313)\n",
      "ssim:  0.7925216911602002\n",
      "torch.Size([502, 313, 313])\n",
      "(502, 313, 313) (502, 313, 313)\n",
      "ssim:  0.6104630551726218\n",
      "torch.Size([502, 313, 313])\n",
      "(502, 313, 313) (502, 313, 313)\n",
      "ssim:  0.7314806377214518\n",
      "torch.Size([502, 313, 313])\n",
      "(502, 313, 313) (502, 313, 313)\n",
      "ssim:  0.8514583571582038\n",
      "torch.Size([502, 313, 313])\n",
      "(502, 313, 313) (502, 313, 313)\n",
      "ssim:  0.7018074640733963\n"
     ]
    },
    {
     "name": "stderr",
     "output_type": "stream",
     "text": [
      "Training:  50%|█████     | 4/8 [02:46<02:36, 39.00s/it]"
     ]
    },
    {
     "name": "stdout",
     "output_type": "stream",
     "text": [
      "torch.Size([502, 313, 313])\n",
      "(502, 313, 313) (502, 313, 313)\n",
      "ssim:  0.7660441879787862\n",
      "torch.Size([502, 313, 313])\n",
      "(502, 313, 313) (502, 313, 313)\n",
      "ssim:  0.5704738041474294\n",
      "torch.Size([502, 313, 313])\n",
      "(502, 313, 313) (502, 313, 313)\n",
      "ssim:  0.6769152982973162\n",
      "torch.Size([502, 313, 313])\n",
      "(502, 313, 313) (502, 313, 313)\n",
      "ssim:  0.5203757877208698\n",
      "torch.Size([502, 313, 313])\n",
      "(502, 313, 313) (502, 313, 313)\n",
      "ssim:  0.8213078681655542\n"
     ]
    },
    {
     "name": "stderr",
     "output_type": "stream",
     "text": [
      "Training:  62%|██████▎   | 5/8 [03:46<02:18, 46.29s/it]"
     ]
    },
    {
     "name": "stdout",
     "output_type": "stream",
     "text": [
      "torch.Size([502, 313, 313])\n",
      "(502, 313, 313) (502, 313, 313)\n",
      "ssim:  0.5616344102941115\n",
      "torch.Size([502, 313, 313])\n",
      "(502, 313, 313) (502, 313, 313)\n",
      "ssim:  0.8408298882311636\n",
      "torch.Size([502, 313, 313])\n",
      "(502, 313, 313) (502, 313, 313)\n",
      "ssim:  0.7621885269367681\n",
      "torch.Size([502, 313, 313])\n",
      "(502, 313, 313) (502, 313, 313)\n",
      "ssim:  0.7248172765713465\n",
      "torch.Size([502, 313, 313])\n",
      "(502, 313, 313) (502, 313, 313)\n",
      "ssim:  0.678146146930227\n"
     ]
    },
    {
     "name": "stderr",
     "output_type": "stream",
     "text": [
      "Training:  75%|███████▌  | 6/8 [04:12<01:18, 39.40s/it]"
     ]
    },
    {
     "name": "stdout",
     "output_type": "stream",
     "text": [
      "torch.Size([502, 313, 313])\n",
      "(502, 313, 313) (502, 313, 313)\n",
      "ssim:  0.8143796875480785\n",
      "torch.Size([502, 313, 313])\n",
      "(502, 313, 313) (502, 313, 313)\n",
      "ssim:  0.839243167663339\n",
      "torch.Size([502, 313, 313])\n",
      "(502, 313, 313) (502, 313, 313)\n",
      "ssim:  0.6932662758814616\n",
      "torch.Size([502, 313, 313])\n",
      "(502, 313, 313) (502, 313, 313)\n",
      "ssim:  0.5986581910817217\n",
      "torch.Size([502, 313, 313])\n",
      "(502, 313, 313) (502, 313, 313)\n",
      "ssim:  0.8359650761542715\n"
     ]
    },
    {
     "name": "stderr",
     "output_type": "stream",
     "text": [
      "Training:  88%|████████▊ | 7/8 [05:11<00:45, 45.97s/it]"
     ]
    },
    {
     "name": "stdout",
     "output_type": "stream",
     "text": [
      "torch.Size([502, 313, 313])\n",
      "(502, 313, 313) (502, 313, 313)\n",
      "ssim:  0.7879344701639647\n",
      "torch.Size([502, 313, 313])\n",
      "(502, 313, 313) (502, 313, 313)\n",
      "ssim:  0.6635355845301911\n",
      "torch.Size([502, 313, 313])\n",
      "(502, 313, 313) (502, 313, 313)\n",
      "ssim:  0.8583651879254096\n",
      "torch.Size([502, 313, 313])\n",
      "(502, 313, 313) (502, 313, 313)\n",
      "ssim:  0.7661179108871624\n",
      "torch.Size([502, 313, 313])\n",
      "(502, 313, 313) (502, 313, 313)\n",
      "ssim:  0.8013275065122375\n"
     ]
    },
    {
     "name": "stderr",
     "output_type": "stream",
     "text": [
      "Training: 100%|██████████| 8/8 [05:36<00:00, 42.09s/it]\n"
     ]
    },
    {
     "name": "stdout",
     "output_type": "stream",
     "text": [
      "Epoch 4 Training Loss: 0.4259\n",
      "Validating...\n"
     ]
    },
    {
     "name": "stderr",
     "output_type": "stream",
     "text": [
      "Validating:   0%|          | 0/4 [00:00<?, ?it/s]"
     ]
    },
    {
     "name": "stdout",
     "output_type": "stream",
     "text": [
      "(502, 313, 313) (502, 313, 313)\n",
      "ssim:  0.6768973088333597\n",
      "(502, 313, 313) (502, 313, 313)\n",
      "ssim:  0.8772261853330345\n",
      "(502, 313, 313) (502, 313, 313)\n",
      "ssim:  0.8094351015121314\n",
      "(502, 313, 313) (502, 313, 313)\n",
      "ssim:  0.7754863249618944\n",
      "(502, 313, 313) (502, 313, 313)\n"
     ]
    },
    {
     "name": "stderr",
     "output_type": "stream",
     "text": [
      "Validating:  25%|██▌       | 1/4 [00:58<02:54, 58.02s/it]"
     ]
    },
    {
     "name": "stdout",
     "output_type": "stream",
     "text": [
      "ssim:  0.7495915568604172\n",
      "(502, 313, 313) (502, 313, 313)\n",
      "ssim:  0.6858528274603689\n",
      "(502, 313, 313) (502, 313, 313)\n",
      "ssim:  0.8601180026927738\n",
      "(502, 313, 313) (502, 313, 313)\n",
      "ssim:  0.774419592099365\n",
      "(502, 313, 313) (502, 313, 313)\n",
      "ssim:  0.8386835464895074\n",
      "(502, 313, 313) (502, 313, 313)\n"
     ]
    },
    {
     "name": "stderr",
     "output_type": "stream",
     "text": [
      "Validating:  50%|█████     | 2/4 [01:22<01:16, 38.10s/it]"
     ]
    },
    {
     "name": "stdout",
     "output_type": "stream",
     "text": [
      "ssim:  0.870619617491824\n",
      "(502, 313, 313) (502, 313, 313)\n",
      "ssim:  0.8395219090577327\n",
      "(502, 313, 313) (502, 313, 313)\n",
      "ssim:  0.6933725265437516\n",
      "(502, 313, 313) (502, 313, 313)\n",
      "ssim:  0.5990166869033277\n",
      "(502, 313, 313) (502, 313, 313)\n",
      "ssim:  0.5765868510307323\n",
      "(502, 313, 313) (502, 313, 313)\n"
     ]
    },
    {
     "name": "stderr",
     "output_type": "stream",
     "text": [
      "Validating:  75%|███████▌  | 3/4 [02:19<00:46, 46.81s/it]"
     ]
    },
    {
     "name": "stdout",
     "output_type": "stream",
     "text": [
      "ssim:  0.7122908336554554\n",
      "(502, 313, 313) (502, 313, 313)\n",
      "ssim:  0.8317901290039569\n",
      "(502, 313, 313) (502, 313, 313)\n",
      "ssim:  0.7409319689862109\n",
      "(502, 313, 313) (502, 313, 313)\n",
      "ssim:  0.7010419505014435\n",
      "(502, 313, 313) (502, 313, 313)\n",
      "ssim:  0.7811437636866633\n",
      "(502, 313, 313) (502, 313, 313)\n"
     ]
    },
    {
     "name": "stderr",
     "output_type": "stream",
     "text": [
      "Validating: 100%|██████████| 4/4 [02:45<00:00, 41.42s/it]"
     ]
    },
    {
     "name": "stdout",
     "output_type": "stream",
     "text": [
      "ssim:  0.7592482575184992\n",
      "Validation Loss at Epoch 4: 0.8650\n",
      "\n",
      "Epoch 5 of 10\n"
     ]
    },
    {
     "name": "stderr",
     "output_type": "stream",
     "text": [
      "\n",
      "Training:   0%|          | 0/8 [00:00<?, ?it/s]"
     ]
    },
    {
     "name": "stdout",
     "output_type": "stream",
     "text": [
      "torch.Size([502, 313, 313])\n",
      "(502, 313, 313) (502, 313, 313)\n",
      "ssim:  0.7403225076598241\n",
      "torch.Size([502, 313, 313])\n",
      "(502, 313, 313) (502, 313, 313)\n",
      "ssim:  0.7123396517799933\n",
      "torch.Size([502, 313, 313])\n",
      "(502, 313, 313) (502, 313, 313)\n",
      "ssim:  0.8533793174296813\n",
      "torch.Size([502, 313, 313])\n",
      "(502, 313, 313) (502, 313, 313)\n",
      "ssim:  0.8499070541758672\n",
      "torch.Size([502, 313, 313])\n",
      "(502, 313, 313) (502, 313, 313)\n",
      "ssim:  0.8587533648192299\n"
     ]
    },
    {
     "name": "stderr",
     "output_type": "stream",
     "text": [
      "Training:  12%|█▎        | 1/8 [00:54<06:24, 54.95s/it]"
     ]
    },
    {
     "name": "stdout",
     "output_type": "stream",
     "text": [
      "torch.Size([502, 313, 313])\n",
      "(502, 313, 313) (502, 313, 313)\n",
      "ssim:  0.8791244706485445\n",
      "torch.Size([502, 313, 313])\n",
      "(502, 313, 313) (502, 313, 313)\n",
      "ssim:  0.8251835047404991\n",
      "torch.Size([502, 313, 313])\n",
      "(502, 313, 313) (502, 313, 313)\n",
      "ssim:  0.8695180465026802\n",
      "torch.Size([502, 313, 313])\n",
      "(502, 313, 313) (502, 313, 313)\n",
      "ssim:  0.759977163519197\n",
      "torch.Size([502, 313, 313])\n",
      "(502, 313, 313) (502, 313, 313)\n",
      "ssim:  0.7525452940454074\n"
     ]
    },
    {
     "name": "stderr",
     "output_type": "stream",
     "text": [
      "Training:  25%|██▌       | 2/8 [01:19<03:43, 37.30s/it]"
     ]
    },
    {
     "name": "stdout",
     "output_type": "stream",
     "text": [
      "torch.Size([502, 313, 313])\n",
      "(502, 313, 313) (502, 313, 313)\n",
      "ssim:  0.8457330488129877\n",
      "torch.Size([502, 313, 313])\n",
      "(502, 313, 313) (502, 313, 313)\n",
      "ssim:  0.8591119830391393\n",
      "torch.Size([502, 313, 313])\n",
      "(502, 313, 313) (502, 313, 313)\n",
      "ssim:  0.6531733490354719\n",
      "torch.Size([502, 313, 313])\n",
      "(502, 313, 313) (502, 313, 313)\n",
      "ssim:  0.8656196152978521\n",
      "torch.Size([502, 313, 313])\n",
      "(502, 313, 313) (502, 313, 313)\n",
      "ssim:  0.8799665427594039\n"
     ]
    },
    {
     "name": "stderr",
     "output_type": "stream",
     "text": [
      "Training:  38%|███▊      | 3/8 [02:16<03:50, 46.04s/it]"
     ]
    },
    {
     "name": "stdout",
     "output_type": "stream",
     "text": [
      "torch.Size([502, 313, 313])\n",
      "(502, 313, 313) (502, 313, 313)\n",
      "ssim:  0.8665237525913163\n",
      "torch.Size([502, 313, 313])\n",
      "(502, 313, 313) (502, 313, 313)\n",
      "ssim:  0.8705058659009601\n",
      "torch.Size([502, 313, 313])\n",
      "(502, 313, 313) (502, 313, 313)\n",
      "ssim:  0.602714235134141\n",
      "torch.Size([502, 313, 313])\n",
      "(502, 313, 313) (502, 313, 313)\n",
      "ssim:  0.7419595378317361\n",
      "torch.Size([502, 313, 313])\n",
      "(502, 313, 313) (502, 313, 313)\n",
      "ssim:  0.8035900987906909\n"
     ]
    },
    {
     "name": "stderr",
     "output_type": "stream",
     "text": [
      "Training:  50%|█████     | 4/8 [02:41<02:30, 37.75s/it]"
     ]
    },
    {
     "name": "stdout",
     "output_type": "stream",
     "text": [
      "torch.Size([502, 313, 313])\n",
      "(502, 313, 313) (502, 313, 313)\n",
      "ssim:  0.7788079498358178\n",
      "torch.Size([502, 313, 313])\n",
      "(502, 313, 313) (502, 313, 313)\n",
      "ssim:  0.7200228976213063\n",
      "torch.Size([502, 313, 313])\n",
      "(502, 313, 313) (502, 313, 313)\n",
      "ssim:  0.8323960261317687\n",
      "torch.Size([502, 313, 313])\n",
      "(502, 313, 313) (502, 313, 313)\n",
      "ssim:  0.6903154505766251\n",
      "torch.Size([502, 313, 313])\n",
      "(502, 313, 313) (502, 313, 313)\n",
      "ssim:  0.7865701482248623\n"
     ]
    },
    {
     "name": "stderr",
     "output_type": "stream",
     "text": [
      "Training:  62%|██████▎   | 5/8 [03:39<02:14, 44.94s/it]"
     ]
    },
    {
     "name": "stdout",
     "output_type": "stream",
     "text": [
      "torch.Size([502, 313, 313])\n",
      "(502, 313, 313) (502, 313, 313)\n",
      "ssim:  0.8564793252517291\n",
      "torch.Size([502, 313, 313])\n",
      "(502, 313, 313) (502, 313, 313)\n",
      "ssim:  0.6665080779960882\n",
      "torch.Size([502, 313, 313])\n",
      "(502, 313, 313) (502, 313, 313)\n",
      "ssim:  0.737733260555573\n",
      "torch.Size([502, 313, 313])\n",
      "(502, 313, 313) (502, 313, 313)\n",
      "ssim:  0.5959021887451066\n",
      "torch.Size([502, 313, 313])\n",
      "(502, 313, 313) (502, 313, 313)\n",
      "ssim:  0.8647031345180852\n"
     ]
    },
    {
     "name": "stderr",
     "output_type": "stream",
     "text": [
      "Training:  75%|███████▌  | 6/8 [04:04<01:16, 38.30s/it]"
     ]
    },
    {
     "name": "stdout",
     "output_type": "stream",
     "text": [
      "torch.Size([502, 313, 313])\n",
      "(502, 313, 313) (502, 313, 313)\n",
      "ssim:  0.639311997251875\n",
      "torch.Size([502, 313, 313])\n",
      "(502, 313, 313) (502, 313, 313)\n",
      "ssim:  0.7373876143976543\n",
      "torch.Size([502, 313, 313])\n",
      "(502, 313, 313) (502, 313, 313)\n",
      "ssim:  0.843609899949584\n",
      "torch.Size([502, 313, 313])\n",
      "(502, 313, 313) (502, 313, 313)\n",
      "ssim:  0.7747374791873186\n",
      "torch.Size([502, 313, 313])\n",
      "(502, 313, 313) (502, 313, 313)\n",
      "ssim:  0.7070013911974222\n"
     ]
    },
    {
     "name": "stderr",
     "output_type": "stream",
     "text": [
      "Training:  88%|████████▊ | 7/8 [05:02<00:44, 44.72s/it]"
     ]
    },
    {
     "name": "stdout",
     "output_type": "stream",
     "text": [
      "torch.Size([502, 313, 313])\n",
      "(502, 313, 313) (502, 313, 313)\n",
      "ssim:  0.7290139314031634\n",
      "torch.Size([502, 313, 313])\n",
      "(502, 313, 313) (502, 313, 313)\n",
      "ssim:  0.8699629904782687\n",
      "torch.Size([502, 313, 313])\n",
      "(502, 313, 313) (502, 313, 313)\n",
      "ssim:  0.677542017327481\n",
      "torch.Size([502, 313, 313])\n",
      "(502, 313, 313) (502, 313, 313)\n",
      "ssim:  0.8241214905097909\n",
      "torch.Size([502, 313, 313])\n",
      "(502, 313, 313) (502, 313, 313)\n",
      "ssim:  0.8465771580181921\n"
     ]
    },
    {
     "name": "stderr",
     "output_type": "stream",
     "text": [
      "Training: 100%|██████████| 8/8 [05:27<00:00, 41.00s/it]\n"
     ]
    },
    {
     "name": "stdout",
     "output_type": "stream",
     "text": [
      "Epoch 5 Training Loss: 0.4032\n",
      "Validating...\n"
     ]
    },
    {
     "name": "stderr",
     "output_type": "stream",
     "text": [
      "Validating:   0%|          | 0/4 [00:00<?, ?it/s]"
     ]
    },
    {
     "name": "stdout",
     "output_type": "stream",
     "text": [
      "(502, 313, 313) (502, 313, 313)\n",
      "ssim:  0.7763396060468714\n",
      "(502, 313, 313) (502, 313, 313)\n",
      "ssim:  0.6559913894231971\n",
      "(502, 313, 313) (502, 313, 313)\n",
      "ssim:  0.8748303059694706\n",
      "(502, 313, 313) (502, 313, 313)\n",
      "ssim:  0.7735342075459015\n",
      "(502, 313, 313) (502, 313, 313)\n"
     ]
    },
    {
     "name": "stderr",
     "output_type": "stream",
     "text": [
      "Validating:  25%|██▌       | 1/4 [00:54<02:42, 54.16s/it]"
     ]
    },
    {
     "name": "stdout",
     "output_type": "stream",
     "text": [
      "ssim:  0.8675091388997292\n",
      "(502, 313, 313) (502, 313, 313)\n",
      "ssim:  0.8051595331075361\n",
      "(502, 313, 313) (502, 313, 313)\n",
      "ssim:  0.7822432422570258\n",
      "(502, 313, 313) (502, 313, 313)\n",
      "ssim:  0.8450385291977682\n",
      "(502, 313, 313) (502, 313, 313)\n",
      "ssim:  0.8161524965687719\n",
      "(502, 313, 313) (502, 313, 313)\n"
     ]
    },
    {
     "name": "stderr",
     "output_type": "stream",
     "text": [
      "Validating:  50%|█████     | 2/4 [01:18<01:13, 36.74s/it]"
     ]
    },
    {
     "name": "stdout",
     "output_type": "stream",
     "text": [
      "ssim:  0.8818052432154235\n",
      "(502, 313, 313) (502, 313, 313)\n",
      "ssim:  0.8192613864725411\n",
      "(502, 313, 313) (502, 313, 313)\n",
      "ssim:  0.8431268541864849\n",
      "(502, 313, 313) (502, 313, 313)\n",
      "ssim:  0.8369738435111237\n",
      "(502, 313, 313) (502, 313, 313)\n",
      "ssim:  0.8284933651363864\n",
      "(502, 313, 313) (502, 313, 313)\n"
     ]
    },
    {
     "name": "stderr",
     "output_type": "stream",
     "text": [
      "Validating:  75%|███████▌  | 3/4 [02:14<00:45, 45.37s/it]"
     ]
    },
    {
     "name": "stdout",
     "output_type": "stream",
     "text": [
      "ssim:  0.877022199873724\n",
      "(502, 313, 313) (502, 313, 313)\n",
      "ssim:  0.7879492619675941\n",
      "(502, 313, 313) (502, 313, 313)\n",
      "ssim:  0.6130907997531968\n",
      "(502, 313, 313) (502, 313, 313)\n",
      "ssim:  0.7143549180329462\n",
      "(502, 313, 313) (502, 313, 313)\n",
      "ssim:  0.7666716142524683\n",
      "(502, 313, 313) (502, 313, 313)\n"
     ]
    },
    {
     "name": "stderr",
     "output_type": "stream",
     "text": [
      "Validating: 100%|██████████| 4/4 [02:39<00:00, 39.76s/it]"
     ]
    },
    {
     "name": "stdout",
     "output_type": "stream",
     "text": [
      "ssim:  0.6293348452915349\n",
      "Validation Loss at Epoch 5: 0.7778\n",
      "\n",
      "Epoch 6 of 10\n"
     ]
    },
    {
     "name": "stderr",
     "output_type": "stream",
     "text": [
      "\n",
      "Training:   0%|          | 0/8 [00:00<?, ?it/s]"
     ]
    },
    {
     "name": "stdout",
     "output_type": "stream",
     "text": [
      "torch.Size([502, 313, 313])\n",
      "(502, 313, 313) (502, 313, 313)\n",
      "ssim:  0.8080331065909927\n",
      "torch.Size([502, 313, 313])\n",
      "(502, 313, 313) (502, 313, 313)\n",
      "ssim:  0.6606371637179989\n",
      "torch.Size([502, 313, 313])\n",
      "(502, 313, 313) (502, 313, 313)\n",
      "ssim:  0.7306046008438386\n",
      "torch.Size([502, 313, 313])\n",
      "(502, 313, 313) (502, 313, 313)\n",
      "ssim:  0.8819501066502149\n",
      "torch.Size([502, 313, 313])\n",
      "(502, 313, 313) (502, 313, 313)\n",
      "ssim:  0.6275223217305477\n"
     ]
    },
    {
     "name": "stderr",
     "output_type": "stream",
     "text": [
      "Training:  12%|█▎        | 1/8 [00:55<06:27, 55.30s/it]"
     ]
    },
    {
     "name": "stdout",
     "output_type": "stream",
     "text": [
      "torch.Size([502, 313, 313])\n",
      "(502, 313, 313) (502, 313, 313)\n",
      "ssim:  0.8116638854962965\n",
      "torch.Size([502, 313, 313])\n",
      "(502, 313, 313) (502, 313, 313)\n",
      "ssim:  0.874292402276674\n",
      "torch.Size([502, 313, 313])\n",
      "(502, 313, 313) (502, 313, 313)\n",
      "ssim:  0.8295493953089524\n",
      "torch.Size([502, 313, 313])\n",
      "(502, 313, 313) (502, 313, 313)\n",
      "ssim:  0.7587680151077006\n",
      "torch.Size([502, 313, 313])\n",
      "(502, 313, 313) (502, 313, 313)\n",
      "ssim:  0.9004375150446455\n"
     ]
    },
    {
     "name": "stderr",
     "output_type": "stream",
     "text": [
      "Training:  25%|██▌       | 2/8 [01:19<03:43, 37.17s/it]"
     ]
    },
    {
     "name": "stdout",
     "output_type": "stream",
     "text": [
      "torch.Size([502, 313, 313])\n",
      "(502, 313, 313) (502, 313, 313)\n",
      "ssim:  0.6588505536510382\n",
      "torch.Size([502, 313, 313])\n",
      "(502, 313, 313) (502, 313, 313)\n",
      "ssim:  0.8070498547757423\n",
      "torch.Size([502, 313, 313])\n",
      "(502, 313, 313) (502, 313, 313)\n",
      "ssim:  0.8681207038823296\n",
      "torch.Size([502, 313, 313])\n",
      "(502, 313, 313) (502, 313, 313)\n",
      "ssim:  0.6074393578543172\n",
      "torch.Size([502, 313, 313])\n",
      "(502, 313, 313) (502, 313, 313)\n",
      "ssim:  0.7506940976748829\n"
     ]
    },
    {
     "name": "stderr",
     "output_type": "stream",
     "text": [
      "Training:  38%|███▊      | 3/8 [02:16<03:51, 46.26s/it]"
     ]
    },
    {
     "name": "stdout",
     "output_type": "stream",
     "text": [
      "torch.Size([502, 313, 313])\n",
      "(502, 313, 313) (502, 313, 313)\n",
      "ssim:  0.6627825607364439\n",
      "torch.Size([502, 313, 313])\n",
      "(502, 313, 313) (502, 313, 313)\n",
      "ssim:  0.8681389016562655\n",
      "torch.Size([502, 313, 313])\n",
      "(502, 313, 313) (502, 313, 313)\n",
      "ssim:  0.8827536054445602\n",
      "torch.Size([502, 313, 313])\n",
      "(502, 313, 313) (502, 313, 313)\n",
      "ssim:  0.7233149963221466\n",
      "torch.Size([502, 313, 313])\n",
      "(502, 313, 313) (502, 313, 313)\n",
      "ssim:  0.7455628208444298\n"
     ]
    },
    {
     "name": "stderr",
     "output_type": "stream",
     "text": [
      "Training:  50%|█████     | 4/8 [02:41<02:31, 37.79s/it]"
     ]
    },
    {
     "name": "stdout",
     "output_type": "stream",
     "text": [
      "torch.Size([502, 313, 313])\n",
      "(502, 313, 313) (502, 313, 313)\n",
      "ssim:  0.8566992937745957\n",
      "torch.Size([502, 313, 313])\n",
      "(502, 313, 313) (502, 313, 313)\n",
      "ssim:  0.8661176110115544\n",
      "torch.Size([502, 313, 313])\n",
      "(502, 313, 313) (502, 313, 313)\n",
      "ssim:  0.7823635506923822\n",
      "torch.Size([502, 313, 313])\n",
      "(502, 313, 313) (502, 313, 313)\n",
      "ssim:  0.8500083593270472\n",
      "torch.Size([502, 313, 313])\n",
      "(502, 313, 313) (502, 313, 313)\n",
      "ssim:  0.7410916995416611\n"
     ]
    },
    {
     "name": "stderr",
     "output_type": "stream",
     "text": [
      "Training:  62%|██████▎   | 5/8 [03:40<02:16, 45.56s/it]"
     ]
    },
    {
     "name": "stdout",
     "output_type": "stream",
     "text": [
      "torch.Size([502, 313, 313])\n",
      "(502, 313, 313) (502, 313, 313)\n",
      "ssim:  0.8673206197000738\n",
      "torch.Size([502, 313, 313])\n",
      "(502, 313, 313) (502, 313, 313)\n",
      "ssim:  0.789435099422466\n",
      "torch.Size([502, 313, 313])\n",
      "(502, 313, 313) (502, 313, 313)\n",
      "ssim:  0.6987667696402642\n",
      "torch.Size([502, 313, 313])\n",
      "(502, 313, 313) (502, 313, 313)\n",
      "ssim:  0.7232229375633785\n",
      "torch.Size([502, 313, 313])\n",
      "(502, 313, 313) (502, 313, 313)\n",
      "ssim:  0.6695284707327533\n"
     ]
    },
    {
     "name": "stderr",
     "output_type": "stream",
     "text": [
      "Training:  75%|███████▌  | 6/8 [04:10<01:20, 40.19s/it]"
     ]
    },
    {
     "name": "stdout",
     "output_type": "stream",
     "text": [
      "torch.Size([502, 313, 313])\n",
      "(502, 313, 313) (502, 313, 313)\n",
      "ssim:  0.8451604926233384\n",
      "torch.Size([502, 313, 313])\n",
      "(502, 313, 313) (502, 313, 313)\n",
      "ssim:  0.712377580776146\n",
      "torch.Size([502, 313, 313])\n",
      "(502, 313, 313) (502, 313, 313)\n",
      "ssim:  0.7764724577154202\n",
      "torch.Size([502, 313, 313])\n",
      "(502, 313, 313) (502, 313, 313)\n",
      "ssim:  0.6447625705739335\n",
      "torch.Size([502, 313, 313])\n",
      "(502, 313, 313) (502, 313, 313)\n",
      "ssim:  0.8482268469991698\n"
     ]
    },
    {
     "name": "stderr",
     "output_type": "stream",
     "text": [
      "Training:  88%|████████▊ | 7/8 [05:09<00:46, 46.26s/it]"
     ]
    },
    {
     "name": "stdout",
     "output_type": "stream",
     "text": [
      "torch.Size([502, 313, 313])\n",
      "(502, 313, 313) (502, 313, 313)\n",
      "ssim:  0.7174668005361543\n",
      "torch.Size([502, 313, 313])\n",
      "(502, 313, 313) (502, 313, 313)\n",
      "ssim:  0.6812163161877899\n",
      "torch.Size([502, 313, 313])\n",
      "(502, 313, 313) (502, 313, 313)\n",
      "ssim:  0.7316050333486218\n",
      "torch.Size([502, 313, 313])\n",
      "(502, 313, 313) (502, 313, 313)\n",
      "ssim:  0.8723232944958013\n",
      "torch.Size([502, 313, 313])\n",
      "(502, 313, 313) (502, 313, 313)\n",
      "ssim:  0.812634659389247\n"
     ]
    },
    {
     "name": "stderr",
     "output_type": "stream",
     "text": [
      "Training: 100%|██████████| 8/8 [05:34<00:00, 41.87s/it]\n"
     ]
    },
    {
     "name": "stdout",
     "output_type": "stream",
     "text": [
      "Epoch 6 Training Loss: 0.4077\n",
      "Validating...\n"
     ]
    },
    {
     "name": "stderr",
     "output_type": "stream",
     "text": [
      "Validating:   0%|          | 0/4 [00:00<?, ?it/s]"
     ]
    },
    {
     "name": "stdout",
     "output_type": "stream",
     "text": [
      "(502, 313, 313) (502, 313, 313)\n",
      "ssim:  0.7742035208001553\n",
      "(502, 313, 313) (502, 313, 313)\n",
      "ssim:  0.698424556458685\n",
      "(502, 313, 313) (502, 313, 313)\n",
      "ssim:  0.6880449775309742\n",
      "(502, 313, 313) (502, 313, 313)\n",
      "ssim:  0.8831156176703364\n",
      "(502, 313, 313) (502, 313, 313)\n"
     ]
    },
    {
     "name": "stderr",
     "output_type": "stream",
     "text": [
      "Validating:  25%|██▌       | 1/4 [00:55<02:45, 55.31s/it]"
     ]
    },
    {
     "name": "stdout",
     "output_type": "stream",
     "text": [
      "ssim:  0.847963193746349\n",
      "(502, 313, 313) (502, 313, 313)\n",
      "ssim:  0.7581173349573538\n",
      "(502, 313, 313) (502, 313, 313)\n",
      "ssim:  0.8178557075983858\n",
      "(502, 313, 313) (502, 313, 313)\n",
      "ssim:  0.657745687436538\n",
      "(502, 313, 313) (502, 313, 313)\n",
      "ssim:  0.8653489985653836\n",
      "(502, 313, 313) (502, 313, 313)\n"
     ]
    },
    {
     "name": "stderr",
     "output_type": "stream",
     "text": [
      "Validating:  50%|█████     | 2/4 [01:19<01:14, 37.11s/it]"
     ]
    },
    {
     "name": "stdout",
     "output_type": "stream",
     "text": [
      "ssim:  0.7974252591169686\n",
      "(502, 313, 313) (502, 313, 313)\n",
      "ssim:  0.7052457614806099\n",
      "(502, 313, 313) (502, 313, 313)\n",
      "ssim:  0.5933003946552359\n",
      "(502, 313, 313) (502, 313, 313)\n",
      "ssim:  0.7121407918624862\n",
      "(502, 313, 313) (502, 313, 313)\n",
      "ssim:  0.6161556125865961\n",
      "(502, 313, 313) (502, 313, 313)\n"
     ]
    },
    {
     "name": "stderr",
     "output_type": "stream",
     "text": [
      "Validating:  75%|███████▌  | 3/4 [02:18<00:47, 47.17s/it]"
     ]
    },
    {
     "name": "stdout",
     "output_type": "stream",
     "text": [
      "ssim:  0.8343264873808476\n",
      "(502, 313, 313) (502, 313, 313)\n",
      "ssim:  0.7254930151898531\n",
      "(502, 313, 313) (502, 313, 313)\n",
      "ssim:  0.7153227348561546\n",
      "(502, 313, 313) (502, 313, 313)\n",
      "ssim:  0.8296438744560456\n",
      "(502, 313, 313) (502, 313, 313)\n",
      "ssim:  0.8376047119756983\n",
      "(502, 313, 313) (502, 313, 313)\n"
     ]
    },
    {
     "name": "stderr",
     "output_type": "stream",
     "text": [
      "Validating: 100%|██████████| 4/4 [02:45<00:00, 41.36s/it]"
     ]
    },
    {
     "name": "stdout",
     "output_type": "stream",
     "text": [
      "ssim:  0.7507591704999377\n",
      "Validation Loss at Epoch 6: 0.8632\n",
      "\n",
      "Epoch 7 of 10\n"
     ]
    },
    {
     "name": "stderr",
     "output_type": "stream",
     "text": [
      "\n",
      "Training:   0%|          | 0/8 [00:00<?, ?it/s]"
     ]
    },
    {
     "name": "stdout",
     "output_type": "stream",
     "text": [
      "torch.Size([502, 313, 313])\n",
      "(502, 313, 313) (502, 313, 313)\n",
      "ssim:  0.7606572581662798\n",
      "torch.Size([502, 313, 313])\n",
      "(502, 313, 313) (502, 313, 313)\n",
      "ssim:  0.8131076907723345\n",
      "torch.Size([502, 313, 313])\n",
      "(502, 313, 313) (502, 313, 313)\n",
      "ssim:  0.8100451401332865\n",
      "torch.Size([502, 313, 313])\n",
      "(502, 313, 313) (502, 313, 313)\n",
      "ssim:  0.8030460303096093\n",
      "torch.Size([502, 313, 313])\n",
      "(502, 313, 313) (502, 313, 313)\n",
      "ssim:  0.830674108363572\n"
     ]
    },
    {
     "name": "stderr",
     "output_type": "stream",
     "text": [
      "Training:  12%|█▎        | 1/8 [00:53<06:16, 53.79s/it]"
     ]
    },
    {
     "name": "stdout",
     "output_type": "stream",
     "text": [
      "torch.Size([502, 313, 313])\n",
      "(502, 313, 313) (502, 313, 313)\n",
      "ssim:  0.6302542455787737\n",
      "torch.Size([502, 313, 313])\n",
      "(502, 313, 313) (502, 313, 313)\n",
      "ssim:  0.8829895731934879\n",
      "torch.Size([502, 313, 313])\n",
      "(502, 313, 313) (502, 313, 313)\n",
      "ssim:  0.7213348153562461\n",
      "torch.Size([502, 313, 313])\n",
      "(502, 313, 313) (502, 313, 313)\n",
      "ssim:  0.7497635281091117\n",
      "torch.Size([502, 313, 313])\n",
      "(502, 313, 313) (502, 313, 313)\n",
      "ssim:  0.8638014378859561\n"
     ]
    },
    {
     "name": "stderr",
     "output_type": "stream",
     "text": [
      "Training:  25%|██▌       | 2/8 [01:19<03:42, 37.14s/it]"
     ]
    },
    {
     "name": "stdout",
     "output_type": "stream",
     "text": [
      "torch.Size([502, 313, 313])\n",
      "(502, 313, 313) (502, 313, 313)\n",
      "ssim:  0.6639481015688766\n",
      "torch.Size([502, 313, 313])\n",
      "(502, 313, 313) (502, 313, 313)\n",
      "ssim:  0.8079188723816879\n",
      "torch.Size([502, 313, 313])\n",
      "(502, 313, 313) (502, 313, 313)\n",
      "ssim:  0.8684159828273504\n",
      "torch.Size([502, 313, 313])\n",
      "(502, 313, 313) (502, 313, 313)\n",
      "ssim:  0.7793496635400898\n",
      "torch.Size([502, 313, 313])\n",
      "(502, 313, 313) (502, 313, 313)\n",
      "ssim:  0.8684734258955942\n"
     ]
    },
    {
     "name": "stderr",
     "output_type": "stream",
     "text": [
      "Training:  38%|███▊      | 3/8 [02:18<03:56, 47.33s/it]"
     ]
    },
    {
     "name": "stdout",
     "output_type": "stream",
     "text": [
      "torch.Size([502, 313, 313])\n",
      "(502, 313, 313) (502, 313, 313)\n",
      "ssim:  0.8616518467407785\n",
      "torch.Size([502, 313, 313])\n",
      "(502, 313, 313) (502, 313, 313)\n",
      "ssim:  0.8498751041542358\n",
      "torch.Size([502, 313, 313])\n",
      "(502, 313, 313) (502, 313, 313)\n",
      "ssim:  0.6697807977130442\n",
      "torch.Size([502, 313, 313])\n",
      "(502, 313, 313) (502, 313, 313)\n",
      "ssim:  0.7240099533765716\n",
      "torch.Size([502, 313, 313])\n",
      "(502, 313, 313) (502, 313, 313)\n",
      "ssim:  0.8729814201476473\n"
     ]
    },
    {
     "name": "stderr",
     "output_type": "stream",
     "text": [
      "Training:  50%|█████     | 4/8 [02:44<02:34, 38.64s/it]"
     ]
    },
    {
     "name": "stdout",
     "output_type": "stream",
     "text": [
      "torch.Size([502, 313, 313])\n",
      "(502, 313, 313) (502, 313, 313)\n",
      "ssim:  0.5867456330928412\n",
      "torch.Size([502, 313, 313])\n",
      "(502, 313, 313) (502, 313, 313)\n",
      "ssim:  0.6713201707672652\n",
      "torch.Size([502, 313, 313])\n",
      "(502, 313, 313) (502, 313, 313)\n",
      "ssim:  0.7773860123290205\n",
      "torch.Size([502, 313, 313])\n",
      "(502, 313, 313) (502, 313, 313)\n",
      "ssim:  0.5796995173740143\n",
      "torch.Size([502, 313, 313])\n",
      "(502, 313, 313) (502, 313, 313)\n",
      "ssim:  0.8567979836733346\n"
     ]
    },
    {
     "name": "stderr",
     "output_type": "stream",
     "text": [
      "Training:  62%|██████▎   | 5/8 [03:41<02:16, 45.50s/it]"
     ]
    },
    {
     "name": "stdout",
     "output_type": "stream",
     "text": [
      "torch.Size([502, 313, 313])\n",
      "(502, 313, 313) (502, 313, 313)\n",
      "ssim:  0.8513741630100792\n",
      "torch.Size([502, 313, 313])\n",
      "(502, 313, 313) (502, 313, 313)\n",
      "ssim:  0.7008242243081346\n",
      "torch.Size([502, 313, 313])\n",
      "(502, 313, 313) (502, 313, 313)\n",
      "ssim:  0.7249351477407476\n",
      "torch.Size([502, 313, 313])\n",
      "(502, 313, 313) (502, 313, 313)\n",
      "ssim:  0.7013620757737551\n",
      "torch.Size([502, 313, 313])\n",
      "(502, 313, 313) (502, 313, 313)\n",
      "ssim:  0.8333412123168115\n"
     ]
    },
    {
     "name": "stderr",
     "output_type": "stream",
     "text": [
      "Training:  75%|███████▌  | 6/8 [04:06<01:17, 38.57s/it]"
     ]
    },
    {
     "name": "stdout",
     "output_type": "stream",
     "text": [
      "torch.Size([502, 313, 313])\n",
      "(502, 313, 313) (502, 313, 313)\n",
      "ssim:  0.7913325142326901\n",
      "torch.Size([502, 313, 313])\n",
      "(502, 313, 313) (502, 313, 313)\n",
      "ssim:  0.7428213468191681\n",
      "torch.Size([502, 313, 313])\n",
      "(502, 313, 313) (502, 313, 313)\n",
      "ssim:  0.7329666739249995\n",
      "torch.Size([502, 313, 313])\n",
      "(502, 313, 313) (502, 313, 313)\n",
      "ssim:  0.8636451771213276\n",
      "torch.Size([502, 313, 313])\n",
      "(502, 313, 313) (502, 313, 313)\n",
      "ssim:  0.7184284711884483\n"
     ]
    },
    {
     "name": "stderr",
     "output_type": "stream",
     "text": [
      "Training:  88%|████████▊ | 7/8 [05:03<00:44, 44.34s/it]"
     ]
    },
    {
     "name": "stdout",
     "output_type": "stream",
     "text": [
      "torch.Size([502, 313, 313])\n",
      "(502, 313, 313) (502, 313, 313)\n",
      "ssim:  0.8492741123818388\n",
      "torch.Size([502, 313, 313])\n",
      "(502, 313, 313) (502, 313, 313)\n",
      "ssim:  0.8460577009731497\n",
      "torch.Size([502, 313, 313])\n",
      "(502, 313, 313) (502, 313, 313)\n",
      "ssim:  0.8131685072691637\n",
      "torch.Size([502, 313, 313])\n",
      "(502, 313, 313) (502, 313, 313)\n",
      "ssim:  0.7211304945598745\n",
      "torch.Size([502, 313, 313])\n",
      "(502, 313, 313) (502, 313, 313)\n",
      "ssim:  0.7780542058453386\n"
     ]
    },
    {
     "name": "stderr",
     "output_type": "stream",
     "text": [
      "Training: 100%|██████████| 8/8 [05:27<00:00, 40.97s/it]\n"
     ]
    },
    {
     "name": "stdout",
     "output_type": "stream",
     "text": [
      "Epoch 7 Training Loss: 0.3996\n",
      "Validating...\n"
     ]
    },
    {
     "name": "stderr",
     "output_type": "stream",
     "text": [
      "Validating:   0%|          | 0/4 [00:00<?, ?it/s]"
     ]
    },
    {
     "name": "stdout",
     "output_type": "stream",
     "text": [
      "(502, 313, 313) (502, 313, 313)\n",
      "ssim:  0.785585120900271\n",
      "(502, 313, 313) (502, 313, 313)\n",
      "ssim:  0.8691792064013234\n",
      "(502, 313, 313) (502, 313, 313)\n",
      "ssim:  0.8990203828175265\n",
      "(502, 313, 313) (502, 313, 313)\n",
      "ssim:  0.7984075637079538\n",
      "(502, 313, 313) (502, 313, 313)\n"
     ]
    },
    {
     "name": "stderr",
     "output_type": "stream",
     "text": [
      "Validating:  25%|██▌       | 1/4 [00:53<02:40, 53.59s/it]"
     ]
    },
    {
     "name": "stdout",
     "output_type": "stream",
     "text": [
      "ssim:  0.7000769546296387\n",
      "(502, 313, 313) (502, 313, 313)\n",
      "ssim:  0.815744327293981\n",
      "(502, 313, 313) (502, 313, 313)\n",
      "ssim:  0.7593556157207494\n",
      "(502, 313, 313) (502, 313, 313)\n",
      "ssim:  0.8474874870673709\n",
      "(502, 313, 313) (502, 313, 313)\n",
      "ssim:  0.818782558708209\n",
      "(502, 313, 313) (502, 313, 313)\n"
     ]
    },
    {
     "name": "stderr",
     "output_type": "stream",
     "text": [
      "Validating:  50%|█████     | 2/4 [01:18<01:12, 36.48s/it]"
     ]
    },
    {
     "name": "stdout",
     "output_type": "stream",
     "text": [
      "ssim:  0.7853824398857404\n",
      "(502, 313, 313) (502, 313, 313)\n",
      "ssim:  0.6178705235580423\n",
      "(502, 313, 313) (502, 313, 313)\n",
      "ssim:  0.83830229673632\n",
      "(502, 313, 313) (502, 313, 313)\n",
      "ssim:  0.7243691965331647\n",
      "(502, 313, 313) (502, 313, 313)\n",
      "ssim:  0.8351254287247897\n",
      "(502, 313, 313) (502, 313, 313)\n"
     ]
    },
    {
     "name": "stderr",
     "output_type": "stream",
     "text": [
      "Validating:  75%|███████▌  | 3/4 [02:20<00:48, 48.42s/it]"
     ]
    },
    {
     "name": "stdout",
     "output_type": "stream",
     "text": [
      "ssim:  0.7519216964800169\n",
      "(502, 313, 313) (502, 313, 313)\n",
      "ssim:  0.7907385376647036\n",
      "(502, 313, 313) (502, 313, 313)\n",
      "ssim:  0.8445621224869636\n",
      "(502, 313, 313) (502, 313, 313)\n",
      "ssim:  0.7067592298898837\n",
      "(502, 313, 313) (502, 313, 313)\n",
      "ssim:  0.7690375450102538\n",
      "(502, 313, 313) (502, 313, 313)\n"
     ]
    },
    {
     "name": "stderr",
     "output_type": "stream",
     "text": [
      "Validating: 100%|██████████| 4/4 [02:45<00:00, 41.46s/it]"
     ]
    },
    {
     "name": "stdout",
     "output_type": "stream",
     "text": [
      "ssim:  0.8453388643184738\n",
      "Validation Loss at Epoch 7: 0.8109\n",
      "\n",
      "Epoch 8 of 10\n"
     ]
    },
    {
     "name": "stderr",
     "output_type": "stream",
     "text": [
      "\n",
      "Training:   0%|          | 0/8 [00:00<?, ?it/s]"
     ]
    },
    {
     "name": "stdout",
     "output_type": "stream",
     "text": [
      "torch.Size([502, 313, 313])\n",
      "(502, 313, 313) (502, 313, 313)\n",
      "ssim:  0.8647156024517403\n",
      "torch.Size([502, 313, 313])\n",
      "(502, 313, 313) (502, 313, 313)\n",
      "ssim:  0.9020590621171181\n",
      "torch.Size([502, 313, 313])\n",
      "(502, 313, 313) (502, 313, 313)\n",
      "ssim:  0.8143952978094648\n",
      "torch.Size([502, 313, 313])\n",
      "(502, 313, 313) (502, 313, 313)\n",
      "ssim:  0.6934596082634787\n",
      "torch.Size([502, 313, 313])\n",
      "(502, 313, 313) (502, 313, 313)\n",
      "ssim:  0.632933001282632\n"
     ]
    },
    {
     "name": "stderr",
     "output_type": "stream",
     "text": [
      "Training:  12%|█▎        | 1/8 [00:55<06:30, 55.81s/it]"
     ]
    },
    {
     "name": "stdout",
     "output_type": "stream",
     "text": [
      "torch.Size([502, 313, 313])\n",
      "(502, 313, 313) (502, 313, 313)\n",
      "ssim:  0.734915879197503\n",
      "torch.Size([502, 313, 313])\n",
      "(502, 313, 313) (502, 313, 313)\n",
      "ssim:  0.7624992208133771\n",
      "torch.Size([502, 313, 313])\n",
      "(502, 313, 313) (502, 313, 313)\n",
      "ssim:  0.7235492859308894\n",
      "torch.Size([502, 313, 313])\n",
      "(502, 313, 313) (502, 313, 313)\n",
      "ssim:  0.8565994033997975\n",
      "torch.Size([502, 313, 313])\n",
      "(502, 313, 313) (502, 313, 313)\n",
      "ssim:  0.8044827336776343\n"
     ]
    },
    {
     "name": "stderr",
     "output_type": "stream",
     "text": [
      "Training:  25%|██▌       | 2/8 [01:21<03:48, 38.12s/it]"
     ]
    },
    {
     "name": "stdout",
     "output_type": "stream",
     "text": [
      "torch.Size([502, 313, 313])\n",
      "(502, 313, 313) (502, 313, 313)\n",
      "ssim:  0.8736071285315073\n",
      "torch.Size([502, 313, 313])\n",
      "(502, 313, 313) (502, 313, 313)\n",
      "ssim:  0.8504030652763949\n",
      "torch.Size([502, 313, 313])\n",
      "(502, 313, 313) (502, 313, 313)\n",
      "ssim:  0.6716000520811622\n",
      "torch.Size([502, 313, 313])\n",
      "(502, 313, 313) (502, 313, 313)\n",
      "ssim:  0.7255412874101593\n",
      "torch.Size([502, 313, 313])\n",
      "(502, 313, 313) (502, 313, 313)\n",
      "ssim:  0.6658847096187763\n"
     ]
    },
    {
     "name": "stderr",
     "output_type": "stream",
     "text": [
      "Training:  38%|███▊      | 3/8 [02:16<03:49, 45.98s/it]"
     ]
    },
    {
     "name": "stdout",
     "output_type": "stream",
     "text": [
      "torch.Size([502, 313, 313])\n",
      "(502, 313, 313) (502, 313, 313)\n",
      "ssim:  0.7528726556738511\n",
      "torch.Size([502, 313, 313])\n",
      "(502, 313, 313) (502, 313, 313)\n",
      "ssim:  0.8627084042904483\n",
      "torch.Size([502, 313, 313])\n",
      "(502, 313, 313) (502, 313, 313)\n",
      "ssim:  0.869476692312105\n",
      "torch.Size([502, 313, 313])\n",
      "(502, 313, 313) (502, 313, 313)\n",
      "ssim:  0.8693365266953208\n",
      "torch.Size([502, 313, 313])\n",
      "(502, 313, 313) (502, 313, 313)\n",
      "ssim:  0.611191635751962\n"
     ]
    },
    {
     "name": "stderr",
     "output_type": "stream",
     "text": [
      "Training:  50%|█████     | 4/8 [02:42<02:31, 37.78s/it]"
     ]
    },
    {
     "name": "stdout",
     "output_type": "stream",
     "text": [
      "torch.Size([502, 313, 313])\n",
      "(502, 313, 313) (502, 313, 313)\n",
      "ssim:  0.8565266117174282\n",
      "torch.Size([502, 313, 313])\n",
      "(502, 313, 313) (502, 313, 313)\n",
      "ssim:  0.6734434521806975\n",
      "torch.Size([502, 313, 313])\n",
      "(502, 313, 313) (502, 313, 313)\n",
      "ssim:  0.7171044192932635\n",
      "torch.Size([502, 313, 313])\n",
      "(502, 313, 313) (502, 313, 313)\n",
      "ssim:  0.7849568861499618\n",
      "torch.Size([502, 313, 313])\n",
      "(502, 313, 313) (502, 313, 313)\n",
      "ssim:  0.6050483827930514\n"
     ]
    },
    {
     "name": "stderr",
     "output_type": "stream",
     "text": [
      "Training:  62%|██████▎   | 5/8 [03:39<02:14, 44.83s/it]"
     ]
    },
    {
     "name": "stdout",
     "output_type": "stream",
     "text": [
      "torch.Size([502, 313, 313])\n",
      "(502, 313, 313) (502, 313, 313)\n",
      "ssim:  0.7919332412825328\n",
      "torch.Size([502, 313, 313])\n",
      "(502, 313, 313) (502, 313, 313)\n",
      "ssim:  0.8686663247622362\n",
      "torch.Size([502, 313, 313])\n",
      "(502, 313, 313) (502, 313, 313)\n",
      "ssim:  0.8583466972927074\n",
      "torch.Size([502, 313, 313])\n",
      "(502, 313, 313) (502, 313, 313)\n",
      "ssim:  0.8350378911908455\n",
      "torch.Size([502, 313, 313])\n",
      "(502, 313, 313) (502, 313, 313)\n",
      "ssim:  0.5903357177623281\n"
     ]
    },
    {
     "name": "stderr",
     "output_type": "stream",
     "text": [
      "Training:  75%|███████▌  | 6/8 [04:04<01:15, 37.96s/it]"
     ]
    },
    {
     "name": "stdout",
     "output_type": "stream",
     "text": [
      "torch.Size([502, 313, 313])\n",
      "(502, 313, 313) (502, 313, 313)\n",
      "ssim:  0.7992022345650868\n",
      "torch.Size([502, 313, 313])\n",
      "(502, 313, 313) (502, 313, 313)\n",
      "ssim:  0.871673962197908\n",
      "torch.Size([502, 313, 313])\n",
      "(502, 313, 313) (502, 313, 313)\n",
      "ssim:  0.6450998708884425\n",
      "torch.Size([502, 313, 313])\n",
      "(502, 313, 313) (502, 313, 313)\n",
      "ssim:  0.778527602407545\n",
      "torch.Size([502, 313, 313])\n",
      "(502, 313, 313) (502, 313, 313)\n",
      "ssim:  0.7902198001770977\n"
     ]
    },
    {
     "name": "stderr",
     "output_type": "stream",
     "text": [
      "Training:  88%|████████▊ | 7/8 [04:59<00:43, 43.77s/it]"
     ]
    },
    {
     "name": "stdout",
     "output_type": "stream",
     "text": [
      "torch.Size([502, 313, 313])\n",
      "(502, 313, 313) (502, 313, 313)\n",
      "ssim:  0.8123576001049516\n",
      "torch.Size([502, 313, 313])\n",
      "(502, 313, 313) (502, 313, 313)\n",
      "ssim:  0.8489268532729762\n",
      "torch.Size([502, 313, 313])\n",
      "(502, 313, 313) (502, 313, 313)\n",
      "ssim:  0.7419240014369333\n",
      "torch.Size([502, 313, 313])\n",
      "(502, 313, 313) (502, 313, 313)\n",
      "ssim:  0.7331700711819868\n",
      "torch.Size([502, 313, 313])\n",
      "(502, 313, 313) (502, 313, 313)\n",
      "ssim:  0.6236317273006441\n"
     ]
    },
    {
     "name": "stderr",
     "output_type": "stream",
     "text": [
      "Training: 100%|██████████| 8/8 [05:25<00:00, 40.64s/it]\n"
     ]
    },
    {
     "name": "stdout",
     "output_type": "stream",
     "text": [
      "Epoch 8 Training Loss: 0.4083\n",
      "Validating...\n"
     ]
    },
    {
     "name": "stderr",
     "output_type": "stream",
     "text": [
      "Validating:   0%|          | 0/4 [00:00<?, ?it/s]"
     ]
    },
    {
     "name": "stdout",
     "output_type": "stream",
     "text": [
      "(502, 313, 313) (502, 313, 313)\n",
      "ssim:  0.7763476958931232\n",
      "(502, 313, 313) (502, 313, 313)\n",
      "ssim:  0.8993080160818172\n",
      "(502, 313, 313) (502, 313, 313)\n",
      "ssim:  0.8481766398515518\n",
      "(502, 313, 313) (502, 313, 313)\n",
      "ssim:  0.6907447704720174\n",
      "(502, 313, 313) (502, 313, 313)\n"
     ]
    },
    {
     "name": "stderr",
     "output_type": "stream",
     "text": [
      "Validating:  25%|██▌       | 1/4 [00:58<02:55, 58.66s/it]"
     ]
    },
    {
     "name": "stdout",
     "output_type": "stream",
     "text": [
      "ssim:  0.7862101339048416\n",
      "(502, 313, 313) (502, 313, 313)\n",
      "ssim:  0.7792968280870557\n",
      "(502, 313, 313) (502, 313, 313)\n",
      "ssim:  0.7991481025336499\n",
      "(502, 313, 313) (502, 313, 313)\n",
      "ssim:  0.7862480479271439\n",
      "(502, 313, 313) (502, 313, 313)\n",
      "ssim:  0.8164290096680781\n",
      "(502, 313, 313) (502, 313, 313)\n"
     ]
    },
    {
     "name": "stderr",
     "output_type": "stream",
     "text": [
      "Validating:  50%|█████     | 2/4 [01:23<01:17, 38.58s/it]"
     ]
    },
    {
     "name": "stdout",
     "output_type": "stream",
     "text": [
      "ssim:  0.6607378878698664\n",
      "(502, 313, 313) (502, 313, 313)\n",
      "ssim:  0.727422236637225\n",
      "(502, 313, 313) (502, 313, 313)\n",
      "ssim:  0.8387978147578308\n",
      "(502, 313, 313) (502, 313, 313)\n",
      "ssim:  0.8213669128186895\n",
      "(502, 313, 313) (502, 313, 313)\n",
      "ssim:  0.8457346893982244\n",
      "(502, 313, 313) (502, 313, 313)\n"
     ]
    },
    {
     "name": "stderr",
     "output_type": "stream",
     "text": [
      "Validating:  75%|███████▌  | 3/4 [02:18<00:46, 46.29s/it]"
     ]
    },
    {
     "name": "stdout",
     "output_type": "stream",
     "text": [
      "ssim:  0.6184187448097527\n",
      "(502, 313, 313) (502, 313, 313)\n",
      "ssim:  0.6799299024028697\n",
      "(502, 313, 313) (502, 313, 313)\n",
      "ssim:  0.6348179398891851\n",
      "(502, 313, 313) (502, 313, 313)\n",
      "ssim:  0.7697683283578974\n",
      "(502, 313, 313) (502, 313, 313)\n",
      "ssim:  0.8307137262322691\n",
      "(502, 313, 313) (502, 313, 313)\n"
     ]
    },
    {
     "name": "stderr",
     "output_type": "stream",
     "text": [
      "Validating: 100%|██████████| 4/4 [02:43<00:00, 40.87s/it]"
     ]
    },
    {
     "name": "stdout",
     "output_type": "stream",
     "text": [
      "ssim:  0.878483311916844\n",
      "Validation Loss at Epoch 8: 0.8125\n",
      "\n",
      "Epoch 9 of 10\n"
     ]
    },
    {
     "name": "stderr",
     "output_type": "stream",
     "text": [
      "\n",
      "Training:   0%|          | 0/8 [00:00<?, ?it/s]"
     ]
    },
    {
     "name": "stdout",
     "output_type": "stream",
     "text": [
      "torch.Size([502, 313, 313])\n",
      "(502, 313, 313) (502, 313, 313)\n",
      "ssim:  0.8607964944420573\n",
      "torch.Size([502, 313, 313])\n",
      "(502, 313, 313) (502, 313, 313)\n",
      "ssim:  0.8572176908141204\n",
      "torch.Size([502, 313, 313])\n",
      "(502, 313, 313) (502, 313, 313)\n",
      "ssim:  0.7635318311369554\n",
      "torch.Size([502, 313, 313])\n",
      "(502, 313, 313) (502, 313, 313)\n",
      "ssim:  0.6676146941223313\n",
      "torch.Size([502, 313, 313])\n",
      "(502, 313, 313) (502, 313, 313)\n",
      "ssim:  0.8121010302108844\n"
     ]
    },
    {
     "name": "stderr",
     "output_type": "stream",
     "text": [
      "Training:  12%|█▎        | 1/8 [01:01<07:09, 61.35s/it]"
     ]
    },
    {
     "name": "stdout",
     "output_type": "stream",
     "text": [
      "torch.Size([502, 313, 313])\n",
      "(502, 313, 313) (502, 313, 313)\n",
      "ssim:  0.7360986300464797\n",
      "torch.Size([502, 313, 313])\n",
      "(502, 313, 313) (502, 313, 313)\n",
      "ssim:  0.7698305686320082\n",
      "torch.Size([502, 313, 313])\n",
      "(502, 313, 313) (502, 313, 313)\n",
      "ssim:  0.8328033213101603\n",
      "torch.Size([502, 313, 313])\n",
      "(502, 313, 313) (502, 313, 313)\n",
      "ssim:  0.8844223747526707\n",
      "torch.Size([502, 313, 313])\n",
      "(502, 313, 313) (502, 313, 313)\n",
      "ssim:  0.8776033025227704\n"
     ]
    },
    {
     "name": "stderr",
     "output_type": "stream",
     "text": [
      "Training:  25%|██▌       | 2/8 [01:26<04:01, 40.17s/it]"
     ]
    },
    {
     "name": "stdout",
     "output_type": "stream",
     "text": [
      "torch.Size([502, 313, 313])\n",
      "(502, 313, 313) (502, 313, 313)\n",
      "ssim:  0.7487083140742847\n",
      "torch.Size([502, 313, 313])\n",
      "(502, 313, 313) (502, 313, 313)\n",
      "ssim:  0.7462151360466805\n",
      "torch.Size([502, 313, 313])\n",
      "(502, 313, 313) (502, 313, 313)\n",
      "ssim:  0.6626314187725137\n",
      "torch.Size([502, 313, 313])\n",
      "(502, 313, 313) (502, 313, 313)\n",
      "ssim:  0.726542398203569\n",
      "torch.Size([502, 313, 313])\n",
      "(502, 313, 313) (502, 313, 313)\n",
      "ssim:  0.8631870695705766\n"
     ]
    },
    {
     "name": "stderr",
     "output_type": "stream",
     "text": [
      "Training:  38%|███▊      | 3/8 [02:24<04:01, 48.34s/it]"
     ]
    },
    {
     "name": "stdout",
     "output_type": "stream",
     "text": [
      "torch.Size([502, 313, 313])\n",
      "(502, 313, 313) (502, 313, 313)\n",
      "ssim:  0.8509910077099319\n",
      "torch.Size([502, 313, 313])\n",
      "(502, 313, 313) (502, 313, 313)\n",
      "ssim:  0.719745425111469\n",
      "torch.Size([502, 313, 313])\n",
      "(502, 313, 313) (502, 313, 313)\n",
      "ssim:  0.746482107458017\n",
      "torch.Size([502, 313, 313])\n",
      "(502, 313, 313) (502, 313, 313)\n",
      "ssim:  0.8630570254726287\n",
      "torch.Size([502, 313, 313])\n",
      "(502, 313, 313) (502, 313, 313)\n",
      "ssim:  0.869845128628054\n"
     ]
    },
    {
     "name": "stderr",
     "output_type": "stream",
     "text": [
      "Training:  50%|█████     | 4/8 [02:50<02:37, 39.35s/it]"
     ]
    },
    {
     "name": "stdout",
     "output_type": "stream",
     "text": [
      "torch.Size([502, 313, 313])\n",
      "(502, 313, 313) (502, 313, 313)\n",
      "ssim:  0.674195797436345\n",
      "torch.Size([502, 313, 313])\n",
      "(502, 313, 313) (502, 313, 313)\n",
      "ssim:  0.6057002546700521\n",
      "torch.Size([502, 313, 313])\n",
      "(502, 313, 313) (502, 313, 313)\n",
      "ssim:  0.7015303462996768\n",
      "torch.Size([502, 313, 313])\n",
      "(502, 313, 313) (502, 313, 313)\n",
      "ssim:  0.8589778011164415\n",
      "torch.Size([502, 313, 313])\n",
      "(502, 313, 313) (502, 313, 313)\n",
      "ssim:  0.5907306308683731\n"
     ]
    },
    {
     "name": "stderr",
     "output_type": "stream",
     "text": [
      "Training:  62%|██████▎   | 5/8 [03:49<02:19, 46.64s/it]"
     ]
    },
    {
     "name": "stdout",
     "output_type": "stream",
     "text": [
      "torch.Size([502, 313, 313])\n",
      "(502, 313, 313) (502, 313, 313)\n",
      "ssim:  0.7925613723247648\n",
      "torch.Size([502, 313, 313])\n",
      "(502, 313, 313) (502, 313, 313)\n",
      "ssim:  0.7274438133763887\n",
      "torch.Size([502, 313, 313])\n",
      "(502, 313, 313) (502, 313, 313)\n",
      "ssim:  0.851975504462239\n",
      "torch.Size([502, 313, 313])\n",
      "(502, 313, 313) (502, 313, 313)\n",
      "ssim:  0.8572825555066789\n",
      "torch.Size([502, 313, 313])\n",
      "(502, 313, 313) (502, 313, 313)\n",
      "ssim:  0.8358133900692746\n"
     ]
    },
    {
     "name": "stderr",
     "output_type": "stream",
     "text": [
      "Training:  75%|███████▌  | 6/8 [04:15<01:18, 39.38s/it]"
     ]
    },
    {
     "name": "stdout",
     "output_type": "stream",
     "text": [
      "torch.Size([502, 313, 313])\n",
      "(502, 313, 313) (502, 313, 313)\n",
      "ssim:  0.6451033753008596\n",
      "torch.Size([502, 313, 313])\n",
      "(502, 313, 313) (502, 313, 313)\n",
      "ssim:  0.7174801266848484\n",
      "torch.Size([502, 313, 313])\n",
      "(502, 313, 313) (502, 313, 313)\n",
      "ssim:  0.7124531043722278\n",
      "torch.Size([502, 313, 313])\n",
      "(502, 313, 313) (502, 313, 313)\n",
      "ssim:  0.7416873574548655\n",
      "torch.Size([502, 313, 313])\n",
      "(502, 313, 313) (502, 313, 313)\n",
      "ssim:  0.6238077883251449\n"
     ]
    },
    {
     "name": "stderr",
     "output_type": "stream",
     "text": [
      "Training:  88%|████████▊ | 7/8 [05:11<00:44, 44.94s/it]"
     ]
    },
    {
     "name": "stdout",
     "output_type": "stream",
     "text": [
      "torch.Size([502, 313, 313])\n",
      "(502, 313, 313) (502, 313, 313)\n",
      "ssim:  0.6820943960227238\n",
      "torch.Size([502, 313, 313])\n",
      "(502, 313, 313) (502, 313, 313)\n",
      "ssim:  0.7997749542172431\n",
      "torch.Size([502, 313, 313])\n",
      "(502, 313, 313) (502, 313, 313)\n",
      "ssim:  0.8470739199862731\n",
      "torch.Size([502, 313, 313])\n",
      "(502, 313, 313) (502, 313, 313)\n",
      "ssim:  0.7336496433379073\n",
      "torch.Size([502, 313, 313])\n",
      "(502, 313, 313) (502, 313, 313)\n",
      "ssim:  0.7223252110003636\n"
     ]
    },
    {
     "name": "stderr",
     "output_type": "stream",
     "text": [
      "Training: 100%|██████████| 8/8 [05:36<00:00, 42.08s/it]\n"
     ]
    },
    {
     "name": "stdout",
     "output_type": "stream",
     "text": [
      "Epoch 9 Training Loss: 0.4091\n",
      "Validating...\n"
     ]
    },
    {
     "name": "stderr",
     "output_type": "stream",
     "text": [
      "Validating:   0%|          | 0/4 [00:00<?, ?it/s]"
     ]
    },
    {
     "name": "stdout",
     "output_type": "stream",
     "text": [
      "(502, 313, 313) (502, 313, 313)\n",
      "ssim:  0.8095883941691817\n",
      "(502, 313, 313) (502, 313, 313)\n",
      "ssim:  0.8663796372663988\n",
      "(502, 313, 313) (502, 313, 313)\n",
      "ssim:  0.7604338136514435\n",
      "(502, 313, 313) (502, 313, 313)\n",
      "ssim:  0.7769191884102753\n",
      "(502, 313, 313) (502, 313, 313)\n"
     ]
    },
    {
     "name": "stderr",
     "output_type": "stream",
     "text": [
      "Validating:  25%|██▌       | 1/4 [00:54<02:44, 54.80s/it]"
     ]
    },
    {
     "name": "stdout",
     "output_type": "stream",
     "text": [
      "ssim:  0.8704147925157971\n",
      "(502, 313, 313) (502, 313, 313)\n",
      "ssim:  0.6612797913945379\n",
      "(502, 313, 313) (502, 313, 313)\n",
      "ssim:  0.787050273453781\n",
      "(502, 313, 313) (502, 313, 313)\n",
      "ssim:  0.7798438555049998\n",
      "(502, 313, 313) (502, 313, 313)\n",
      "ssim:  0.7999374889182006\n",
      "(502, 313, 313) (502, 313, 313)\n"
     ]
    },
    {
     "name": "stderr",
     "output_type": "stream",
     "text": [
      "Validating:  50%|█████     | 2/4 [01:18<01:13, 36.80s/it]"
     ]
    },
    {
     "name": "stdout",
     "output_type": "stream",
     "text": [
      "ssim:  0.8998226674673965\n",
      "(502, 313, 313) (502, 313, 313)\n",
      "ssim:  0.728249713399006\n",
      "(502, 313, 313) (502, 313, 313)\n",
      "ssim:  0.6357061709622515\n",
      "(502, 313, 313) (502, 313, 313)\n",
      "ssim:  0.821784443892961\n",
      "(502, 313, 313) (502, 313, 313)\n",
      "ssim:  0.6194456432065637\n",
      "(502, 313, 313) (502, 313, 313)\n"
     ]
    },
    {
     "name": "stderr",
     "output_type": "stream",
     "text": [
      "Validating:  75%|███████▌  | 3/4 [02:14<00:45, 45.31s/it]"
     ]
    },
    {
     "name": "stdout",
     "output_type": "stream",
     "text": [
      "ssim:  0.7705814110175708\n",
      "(502, 313, 313) (502, 313, 313)\n",
      "ssim:  0.7262087977673238\n",
      "(502, 313, 313) (502, 313, 313)\n",
      "ssim:  0.5966380439565887\n",
      "(502, 313, 313) (502, 313, 313)\n",
      "ssim:  0.8456269157654042\n",
      "(502, 313, 313) (502, 313, 313)\n",
      "ssim:  0.7532152493343964\n",
      "(502, 313, 313) (502, 313, 313)\n"
     ]
    },
    {
     "name": "stderr",
     "output_type": "stream",
     "text": [
      "Validating: 100%|██████████| 4/4 [02:39<00:00, 39.77s/it]"
     ]
    },
    {
     "name": "stdout",
     "output_type": "stream",
     "text": [
      "ssim:  0.8640476521222974\n",
      "Validation Loss at Epoch 9: 0.8348\n",
      "\n",
      "Epoch 10 of 10\n"
     ]
    },
    {
     "name": "stderr",
     "output_type": "stream",
     "text": [
      "\n",
      "Training:   0%|          | 0/8 [00:00<?, ?it/s]"
     ]
    },
    {
     "name": "stdout",
     "output_type": "stream",
     "text": [
      "torch.Size([502, 313, 313])\n",
      "(502, 313, 313) (502, 313, 313)\n",
      "ssim:  0.8846010138052031\n",
      "torch.Size([502, 313, 313])\n",
      "(502, 313, 313) (502, 313, 313)\n",
      "ssim:  0.8155932628139799\n",
      "torch.Size([502, 313, 313])\n",
      "(502, 313, 313) (502, 313, 313)\n",
      "ssim:  0.6347925597673535\n",
      "torch.Size([502, 313, 313])\n",
      "(502, 313, 313) (502, 313, 313)\n",
      "ssim:  0.623583134868475\n",
      "torch.Size([502, 313, 313])\n",
      "(502, 313, 313) (502, 313, 313)\n",
      "ssim:  0.8574595329998468\n"
     ]
    },
    {
     "name": "stderr",
     "output_type": "stream",
     "text": [
      "Training:  12%|█▎        | 1/8 [00:56<06:34, 56.34s/it]"
     ]
    },
    {
     "name": "stdout",
     "output_type": "stream",
     "text": [
      "torch.Size([502, 313, 313])\n",
      "(502, 313, 313) (502, 313, 313)\n",
      "ssim:  0.8643490116178437\n",
      "torch.Size([502, 313, 313])\n",
      "(502, 313, 313) (502, 313, 313)\n",
      "ssim:  0.7363849495198418\n",
      "torch.Size([502, 313, 313])\n",
      "(502, 313, 313) (502, 313, 313)\n",
      "ssim:  0.8056611859561762\n",
      "torch.Size([502, 313, 313])\n",
      "(502, 313, 313) (502, 313, 313)\n",
      "ssim:  0.8610968468979838\n",
      "torch.Size([502, 313, 313])\n",
      "(502, 313, 313) (502, 313, 313)\n",
      "ssim:  0.9027118407955347\n"
     ]
    },
    {
     "name": "stderr",
     "output_type": "stream",
     "text": [
      "Training:  25%|██▌       | 2/8 [01:25<04:03, 40.56s/it]"
     ]
    },
    {
     "name": "stdout",
     "output_type": "stream",
     "text": [
      "torch.Size([502, 313, 313])\n",
      "(502, 313, 313) (502, 313, 313)\n",
      "ssim:  0.7267540798811436\n",
      "torch.Size([502, 313, 313])\n",
      "(502, 313, 313) (502, 313, 313)\n",
      "ssim:  0.7202477203899458\n",
      "torch.Size([502, 313, 313])\n",
      "(502, 313, 313) (502, 313, 313)\n",
      "ssim:  0.7489679149389236\n",
      "torch.Size([502, 313, 313])\n",
      "(502, 313, 313) (502, 313, 313)\n",
      "ssim:  0.6671925205122564\n",
      "torch.Size([502, 313, 313])\n",
      "(502, 313, 313) (502, 313, 313)\n",
      "ssim:  0.7818085822593117\n"
     ]
    },
    {
     "name": "stderr",
     "output_type": "stream",
     "text": [
      "Training:  38%|███▊      | 3/8 [02:22<03:59, 47.80s/it]"
     ]
    },
    {
     "name": "stdout",
     "output_type": "stream",
     "text": [
      "torch.Size([502, 313, 313])\n",
      "(502, 313, 313) (502, 313, 313)\n",
      "ssim:  0.8633579204904994\n",
      "torch.Size([502, 313, 313])\n",
      "(502, 313, 313) (502, 313, 313)\n",
      "ssim:  0.7540297873008628\n",
      "torch.Size([502, 313, 313])\n",
      "(502, 313, 313) (502, 313, 313)\n",
      "ssim:  0.851466215938737\n",
      "torch.Size([502, 313, 313])\n",
      "(502, 313, 313) (502, 313, 313)\n",
      "ssim:  0.6126538009356975\n",
      "torch.Size([502, 313, 313])\n",
      "(502, 313, 313) (502, 313, 313)\n",
      "ssim:  0.8744109296465077\n"
     ]
    },
    {
     "name": "stderr",
     "output_type": "stream",
     "text": [
      "Training:  50%|█████     | 4/8 [02:47<02:35, 38.92s/it]"
     ]
    },
    {
     "name": "stdout",
     "output_type": "stream",
     "text": [
      "torch.Size([502, 313, 313])\n",
      "(502, 313, 313) (502, 313, 313)\n",
      "ssim:  0.5623337631986295\n",
      "torch.Size([502, 313, 313])\n",
      "(502, 313, 313) (502, 313, 313)\n",
      "ssim:  0.7060002454195857\n",
      "torch.Size([502, 313, 313])\n",
      "(502, 313, 313) (502, 313, 313)\n",
      "ssim:  0.8598686688127374\n",
      "torch.Size([502, 313, 313])\n",
      "(502, 313, 313) (502, 313, 313)\n",
      "ssim:  0.852726839127841\n",
      "torch.Size([502, 313, 313])\n",
      "(502, 313, 313) (502, 313, 313)\n",
      "ssim:  0.7189144372058148\n"
     ]
    },
    {
     "name": "stderr",
     "output_type": "stream",
     "text": [
      "Training:  62%|██████▎   | 5/8 [03:46<02:18, 46.06s/it]"
     ]
    },
    {
     "name": "stdout",
     "output_type": "stream",
     "text": [
      "torch.Size([502, 313, 313])\n",
      "(502, 313, 313) (502, 313, 313)\n",
      "ssim:  0.7340932828967205\n",
      "torch.Size([502, 313, 313])\n",
      "(502, 313, 313) (502, 313, 313)\n",
      "ssim:  0.7459369917400551\n",
      "torch.Size([502, 313, 313])\n",
      "(502, 313, 313) (502, 313, 313)\n",
      "ssim:  0.8687447151681413\n",
      "torch.Size([502, 313, 313])\n",
      "(502, 313, 313) (502, 313, 313)\n",
      "ssim:  0.7806206156002929\n",
      "torch.Size([502, 313, 313])\n",
      "(502, 313, 313) (502, 313, 313)\n",
      "ssim:  0.593359950217984\n"
     ]
    },
    {
     "name": "stderr",
     "output_type": "stream",
     "text": [
      "Training:  75%|███████▌  | 6/8 [04:13<01:19, 39.76s/it]"
     ]
    },
    {
     "name": "stdout",
     "output_type": "stream",
     "text": [
      "torch.Size([502, 313, 313])\n",
      "(502, 313, 313) (502, 313, 313)\n",
      "ssim:  0.7916419287498301\n",
      "torch.Size([502, 313, 313])\n",
      "(502, 313, 313) (502, 313, 313)\n",
      "ssim:  0.6403502680328645\n",
      "torch.Size([502, 313, 313])\n",
      "(502, 313, 313) (502, 313, 313)\n",
      "ssim:  0.8498425121200778\n",
      "torch.Size([502, 313, 313])\n",
      "(502, 313, 313) (502, 313, 313)\n",
      "ssim:  0.8006897029132005\n",
      "torch.Size([502, 313, 313])\n",
      "(502, 313, 313) (502, 313, 313)\n",
      "ssim:  0.8477314471166668\n"
     ]
    },
    {
     "name": "stderr",
     "output_type": "stream",
     "text": [
      "Training:  88%|████████▊ | 7/8 [05:14<00:46, 46.71s/it]"
     ]
    },
    {
     "name": "stdout",
     "output_type": "stream",
     "text": [
      "torch.Size([502, 313, 313])\n",
      "(502, 313, 313) (502, 313, 313)\n",
      "ssim:  0.7196674945937139\n",
      "torch.Size([502, 313, 313])\n",
      "(502, 313, 313) (502, 313, 313)\n",
      "ssim:  0.813750034172152\n",
      "torch.Size([502, 313, 313])\n",
      "(502, 313, 313) (502, 313, 313)\n",
      "ssim:  0.8644655902957848\n",
      "torch.Size([502, 313, 313])\n",
      "(502, 313, 313) (502, 313, 313)\n",
      "ssim:  0.647826802948457\n",
      "torch.Size([502, 313, 313])\n",
      "(502, 313, 313) (502, 313, 313)\n",
      "ssim:  0.7238419081486397\n"
     ]
    },
    {
     "name": "stderr",
     "output_type": "stream",
     "text": [
      "Training: 100%|██████████| 8/8 [05:39<00:00, 42.44s/it]\n"
     ]
    },
    {
     "name": "stdout",
     "output_type": "stream",
     "text": [
      "Epoch 10 Training Loss: 0.4073\n",
      "Validating...\n"
     ]
    },
    {
     "name": "stderr",
     "output_type": "stream",
     "text": [
      "Validating:   0%|          | 0/4 [00:00<?, ?it/s]"
     ]
    },
    {
     "name": "stdout",
     "output_type": "stream",
     "text": [
      "(502, 313, 313) (502, 313, 313)\n",
      "ssim:  0.7876518330158222\n",
      "(502, 313, 313) (502, 313, 313)\n",
      "ssim:  0.7806807831068623\n",
      "(502, 313, 313) (502, 313, 313)\n",
      "ssim:  0.8668958975581909\n",
      "(502, 313, 313) (502, 313, 313)\n",
      "ssim:  0.7779600376344713\n",
      "(502, 313, 313) (502, 313, 313)\n"
     ]
    },
    {
     "name": "stderr",
     "output_type": "stream",
     "text": [
      "Validating:  25%|██▌       | 1/4 [00:57<02:52, 57.52s/it]"
     ]
    },
    {
     "name": "stdout",
     "output_type": "stream",
     "text": [
      "ssim:  0.6627431263760345\n",
      "(502, 313, 313) (502, 313, 313)\n",
      "ssim:  0.8208629714506627\n",
      "(502, 313, 313) (502, 313, 313)\n",
      "ssim:  0.9001292772064855\n",
      "(502, 313, 313) (502, 313, 313)\n",
      "ssim:  0.8708138745477667\n",
      "(502, 313, 313) (502, 313, 313)\n",
      "ssim:  0.8780741776771043\n",
      "(502, 313, 313) (502, 313, 313)\n"
     ]
    },
    {
     "name": "stderr",
     "output_type": "stream",
     "text": [
      "Validating:  50%|█████     | 2/4 [01:22<01:16, 38.29s/it]"
     ]
    },
    {
     "name": "stdout",
     "output_type": "stream",
     "text": [
      "ssim:  0.7027987119967931\n",
      "(502, 313, 313) (502, 313, 313)\n",
      "ssim:  0.6373906314153244\n",
      "(502, 313, 313) (502, 313, 313)\n",
      "ssim:  0.6211830101064143\n",
      "(502, 313, 313) (502, 313, 313)\n",
      "ssim:  0.7200355266494384\n",
      "(502, 313, 313) (502, 313, 313)\n",
      "ssim:  0.7276093709323652\n",
      "(502, 313, 313) (502, 313, 313)\n"
     ]
    },
    {
     "name": "stderr",
     "output_type": "stream",
     "text": [
      "Validating:  75%|███████▌  | 3/4 [02:21<00:47, 47.80s/it]"
     ]
    },
    {
     "name": "stdout",
     "output_type": "stream",
     "text": [
      "ssim:  0.8371693156575716\n",
      "(502, 313, 313) (502, 313, 313)\n",
      "ssim:  0.5986141742123032\n",
      "(502, 313, 313) (502, 313, 313)\n",
      "ssim:  0.771736977698732\n",
      "(502, 313, 313) (502, 313, 313)\n",
      "ssim:  0.7544453759062834\n",
      "(502, 313, 313) (502, 313, 313)\n",
      "ssim:  0.8226928233097631\n",
      "(502, 313, 313) (502, 313, 313)\n"
     ]
    },
    {
     "name": "stderr",
     "output_type": "stream",
     "text": [
      "Validating: 100%|██████████| 4/4 [02:46<00:00, 41.68s/it]"
     ]
    },
    {
     "name": "stdout",
     "output_type": "stream",
     "text": [
      "ssim:  0.7927526974580642\n",
      "Validation Loss at Epoch 10: 0.8476\n",
      "Saving model...\n"
     ]
    },
    {
     "name": "stderr",
     "output_type": "stream",
     "text": [
      "\n"
     ]
    },
    {
     "name": "stdout",
     "output_type": "stream",
     "text": [
      "Model saved to model_rrdb_spatial_checkpoint.pth\n",
      "done\n"
     ]
    }
   ],
   "source": [
    "from tasks.rrdb_spatial_task import RRDBSpatialTask, train_rrdb_spatial\n",
    "import os\n",
    "import torch\n",
    "from torch.utils.data import DataLoader\n",
    "from models.diffusion import GaussianDiffusion\n",
    "from models.diffsr_modules import RRDBNet, Unet\n",
    "from models.new_noise_scheduler import NoiseScheduler\n",
    "from utils.hparams import hparams\n",
    "from utils.utils import Measure, move_to_cuda, load_checkpoint, save_checkpoint, tensors_to_scalars\n",
    "from tqdm import tqdm\n",
    "from tasks.spatial_transcriptomics_dataset import MemoryEfficientPairedLoader_2, MemoryEfficientPairedLoaderWrapper_2\n",
    "from torch.utils.tensorboard import SummaryWriter\n",
    "import numpy as np\n",
    "train_data_dir = 'binned_data'  \n",
    "val_data_dir = 'binned_data'  \n",
    "test_data_dir = 'binned_data' \n",
    "\n",
    "batch_size = 10  #can also do `hparams['batch_size']` but hardcoding saves a little time during debugging\n",
    "\n",
    "#note: memory issues even with downscaled growth channels and other values \n",
    "#larger values are suggested but even on an H100 (80 gb vram) this is the best we can run with a batch size of 5)\n",
    "#num_feature_maps=32, num_blocks=6, growth_channels=32\n",
    "rrdb_task = RRDBSpatialTask(train_data_dir, val_data_dir, test_data_dir, batch_size)\n",
    "\n",
    "train_rrdb_spatial(model_task=rrdb_task, max_epochs=10)\n",
    "print(\"done\")\n"
   ]
  },
  {
   "cell_type": "code",
   "execution_count": null,
   "id": "45609f1b-3a49-4524-bb7a-d30775cb5b25",
   "metadata": {},
   "outputs": [],
   "source": []
  },
  {
   "cell_type": "code",
   "execution_count": null,
   "id": "b66c9b23-8f3f-4d68-a09a-a4f0c9504adc",
   "metadata": {},
   "outputs": [],
   "source": []
  },
  {
   "cell_type": "code",
   "execution_count": null,
   "id": "8f666eef-4132-4faf-a07c-29b6f67a30ea",
   "metadata": {},
   "outputs": [],
   "source": []
  },
  {
   "cell_type": "code",
   "execution_count": null,
   "id": "270620bd-d7bc-4249-ad79-86868c25267e",
   "metadata": {},
   "outputs": [],
   "source": []
  },
  {
   "cell_type": "code",
   "execution_count": null,
   "id": "ec7220cf-92ed-4726-8d78-681dd67f6c4e",
   "metadata": {},
   "outputs": [],
   "source": []
  }
 ],
 "metadata": {
  "kernelspec": {
   "display_name": "Python 3 (ipykernel)",
   "language": "python",
   "name": "python3"
  },
  "language_info": {
   "codemirror_mode": {
    "name": "ipython",
    "version": 3
   },
   "file_extension": ".py",
   "mimetype": "text/x-python",
   "name": "python",
   "nbconvert_exporter": "python",
   "pygments_lexer": "ipython3",
   "version": "3.10.12"
  }
 },
 "nbformat": 4,
 "nbformat_minor": 5
}
